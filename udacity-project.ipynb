{
  "cells": [
    {
      "cell_type": "markdown",
      "source": [
        "COMMON SETUP"
      ],
      "metadata": {
        "nteract": {
          "transient": {
            "deleting": false
          }
        }
      }
    },
    {
      "cell_type": "code",
      "source": [
        "from azureml.core import Workspace, Experiment\n",
        "\n",
        "ws = Workspace.get(\n",
        "      name=\"ml-playground-01\",\n",
        "      subscription_id=\"1a342961-1209-4b7b-9e44-318aeea934e8\",\n",
        "      resource_group=\"DataEngineering\",\n",
        ")\n",
        "\n",
        "print(ws)\n",
        "\n",
        "exp = Experiment(workspace=ws, name=\"udacity-project-01\")\n",
        "\n",
        "print('Workspace name: ' + ws.name, \n",
        "      'Azure region: ' + ws.location, \n",
        "      'Subscription id: ' + ws.subscription_id, \n",
        "      'Resource group: ' + ws.resource_group, sep = '\\n')\n",
        "\n",
        "run = exp.start_logging()\n",
        "from azureml.widgets import RunDetails\n",
        "\n",
        "from azureml.core.compute import ComputeTarget, AmlCompute\n",
        "\n",
        "# TODO: Create compute cluster\n",
        "# Use vm_size = \"Standard_D2_V2\" in your provisioning configuration.\n",
        "# max_nodes should be no greater than 4.\n",
        "\n",
        "compute_target = ws.compute_targets[\"testing-123\"]"
      ],
      "outputs": [
        {
          "output_type": "stream",
          "name": "stdout",
          "text": [
            "Workspace.create(name='ml-playground-01', subscription_id='1a342961-1209-4b7b-9e44-318aeea934e8', resource_group='DataEngineering')\n",
            "Workspace name: ml-playground-01\n",
            "Azure region: eastus\n",
            "Subscription id: 1a342961-1209-4b7b-9e44-318aeea934e8\n",
            "Resource group: DataEngineering\n"
          ]
        }
      ],
      "execution_count": 1,
      "metadata": {
        "gather": {
          "logged": 1624298285034
        }
      }
    },
    {
      "cell_type": "markdown",
      "source": [
        "START HYPER DRIVE BLOCK"
      ],
      "metadata": {
        "nteract": {
          "transient": {
            "deleting": false
          }
        }
      }
    },
    {
      "cell_type": "code",
      "source": [
        "from azureml.train.hyperdrive.run import PrimaryMetricGoal\n",
        "from azureml.train.hyperdrive.policy import BanditPolicy\n",
        "from azureml.train.hyperdrive.sampling import RandomParameterSampling\n",
        "from azureml.train.hyperdrive.runconfig import HyperDriveConfig\n",
        "from azureml.train.hyperdrive.parameter_expressions import uniform, loguniform, choice\n",
        "import os\n",
        "\n",
        "# Specify parameter sampler\n",
        "ps = RandomParameterSampling( {\n",
        "        \"--C\": uniform(0.01, 1),\n",
        "        \"--max_iter\": choice([10, 20, 50, 100, 200, 500, 1000, 2000, 5000, 10000]),\n",
        "    }\n",
        ")\n",
        "\n",
        "# Specify a Policy\n",
        "policy = BanditPolicy(slack_factor = 0.1, evaluation_interval=1, delay_evaluation=5)\n",
        "\n",
        "if \"training\" not in os.listdir():\n",
        "    os.mkdir(\"./training\")\n",
        "\n",
        "# Create a SKLearn estimator for use with train.py\n",
        "from azureml.core import Environment\n",
        "\n",
        "sklearn_env = Environment.get(workspace=ws, name='AzureML-Tutorial')\n",
        "\n",
        "from azureml.core import ScriptRunConfig\n",
        "\n",
        "path_to_script = \".\" # \"~/cloudfiles/code/Users/ballen/udacity/nd00333_AZMLND_Optimizing_a_Pipeline_in_Azure-Starter_Files\"\n",
        "src = ScriptRunConfig(source_directory=path_to_script,\n",
        "                      script='train.py',\n",
        "                      arguments=[],\n",
        "                      compute_target=compute_target,\n",
        "                      environment=sklearn_env)\n",
        "\n",
        "# Create a HyperDriveConfig using the estimator, hyperparameter sampler, and policy.\n",
        "hd_config = HyperDriveConfig(\n",
        "    run_config=src,\n",
        "    hyperparameter_sampling=ps,\n",
        "    policy=policy,\n",
        "    primary_metric_name=\"AUC\",\n",
        "    primary_metric_goal=PrimaryMetricGoal.MAXIMIZE,\n",
        "    max_total_runs=144,\n",
        "    max_concurrent_runs=12,\n",
        ")"
      ],
      "outputs": [],
      "execution_count": 34,
      "metadata": {
        "gather": {
          "logged": 1624310408580
        },
        "jupyter": {
          "outputs_hidden": false,
          "source_hidden": false
        },
        "nteract": {
          "transient": {
            "deleting": false
          }
        }
      }
    },
    {
      "cell_type": "code",
      "source": [
        "# Submit your hyperdrive run to the experiment and show run details with the widget.\n",
        "\n",
        "hyperdrive_run = exp.submit(hd_config)\n"
      ],
      "outputs": [],
      "execution_count": null,
      "metadata": {
        "gather": {
          "logged": 1624041974513
        }
      }
    },
    {
      "cell_type": "code",
      "source": [
        "# watch run\r\n",
        "RunDetails(hyperdrive_run).show()"
      ],
      "outputs": [],
      "execution_count": null,
      "metadata": {
        "collapsed": true,
        "jupyter": {
          "source_hidden": false,
          "outputs_hidden": false
        },
        "nteract": {
          "transient": {
            "deleting": false
          }
        },
        "gather": {
          "logged": 1624041979637
        }
      }
    },
    {
      "cell_type": "code",
      "source": [
        "hyperdrive_run.wait_for_completion(show_output=True)"
      ],
      "outputs": [],
      "execution_count": null,
      "metadata": {
        "collapsed": true,
        "jupyter": {
          "source_hidden": false,
          "outputs_hidden": false
        },
        "nteract": {
          "transient": {
            "deleting": false
          }
        },
        "gather": {
          "logged": 1624043048333
        }
      }
    },
    {
      "cell_type": "markdown",
      "source": [
        "HYPERDRIVE CLEANUP"
      ],
      "metadata": {
        "nteract": {
          "transient": {
            "deleting": false
          }
        }
      }
    },
    {
      "cell_type": "code",
      "source": [
        "hyperdrive_run.complete()"
      ],
      "outputs": [],
      "execution_count": null,
      "metadata": {
        "collapsed": true,
        "jupyter": {
          "source_hidden": false,
          "outputs_hidden": false
        },
        "nteract": {
          "transient": {
            "deleting": false
          }
        },
        "gather": {
          "logged": 1624043082620
        }
      }
    },
    {
      "cell_type": "code",
      "source": [
        "import joblib\n",
        "# Get your best run and save the model from that run.\n",
        "\n",
        "best_run = hyperdrive_run.get_best_run_by_primary_metric()\n",
        "best_run_metrics = best_run.get_metrics()\n",
        "parameter_values = best_run.get_details()['runDefinition']['arguments']\n",
        "\n",
        "print(parameter_values)\n",
        "\n",
        "print(best_run.get_file_names())\n",
        "\n",
        "# model = best_run.register_model(model_name='best_logistic', model_path='outputs/model.joblib')"
      ],
      "outputs": [],
      "execution_count": null,
      "metadata": {
        "gather": {
          "logged": 1624043316571
        },
        "jupyter": {
          "outputs_hidden": false,
          "source_hidden": false
        },
        "nteract": {
          "transient": {
            "deleting": false
          }
        }
      }
    },
    {
      "cell_type": "markdown",
      "source": [
        "START AUTOML BLOCK"
      ],
      "metadata": {
        "nteract": {
          "transient": {
            "deleting": false
          }
        }
      }
    },
    {
      "cell_type": "code",
      "source": [
        "from azureml.data.dataset_factory import TabularDatasetFactory\n",
        "\n",
        "# Create TabularDataset using TabularDatasetFactory\n",
        "# Data is available at: \n",
        "# \"https://automlsamplenotebookdata.blob.core.windows.net/automl-sample-notebook-data/bankmarketing_train.csv\"\n",
        "\n",
        "path = \"https://automlsamplenotebookdata.blob.core.windows.net/automl-sample-notebook-data/bankmarketing_train.csv\"\n",
        "\n",
        "ds = TabularDatasetFactory.from_delimited_files(path)"
      ],
      "outputs": [],
      "execution_count": 2,
      "metadata": {
        "gather": {
          "logged": 1624298296990
        }
      }
    },
    {
      "cell_type": "code",
      "source": [
        "from azureml.train.automl import AutoMLConfig\n",
        "\n",
        "# Set parameters for AutoMLConfig\n",
        "# NOTE: DO NOT CHANGE THE experiment_timeout_minutes PARAMETER OR YOUR INSTANCE WILL TIME OUT.\n",
        "# If you wish to run the experiment longer, you will need to run this notebook in your own\n",
        "# Azure tenant, which will incur personal costs.\n",
        "automl_config = AutoMLConfig(\n",
        "    experiment_timeout_hours=0.5,\n",
        "    compute_target=compute_target,\n",
        "    task=\"classification\",\n",
        "    model_explainability=True,\n",
        "    training_data=ds,\n",
        "    label_column_name=\"y\",\n",
        "    n_cross_validations=10,\n",
        "    primary_metric=\"AUC_weighted\",\n",
        "    enable_onnx_compatible_models=False,\n",
        "    enable_stack_ensemble=True,\n",
        "    enable_voting_ensemble=True,\n",
        "    iterations=144,\n",
        "    enable_early_stopping=True,\n",
        "    max_cores_per_iteration=-1,\n",
        "    max_concurrent_iterations=12,\n",
        ")"
      ],
      "outputs": [],
      "execution_count": 28,
      "metadata": {
        "gather": {
          "logged": 1624307024598
        },
        "jupyter": {
          "outputs_hidden": false,
          "source_hidden": false
        },
        "nteract": {
          "transient": {
            "deleting": false
          }
        }
      }
    },
    {
      "cell_type": "code",
      "source": [
        "# Submit your automl run\n",
        "\n",
        "automl_run = exp.submit(automl_config)"
      ],
      "outputs": [
        {
          "output_type": "stream",
          "name": "stdout",
          "text": [
            "Submitting remote run.\n"
          ]
        },
        {
          "output_type": "display_data",
          "data": {
            "text/plain": "<IPython.core.display.HTML object>",
            "text/html": "<table style=\"width:100%\"><tr><th>Experiment</th><th>Id</th><th>Type</th><th>Status</th><th>Details Page</th><th>Docs Page</th></tr><tr><td>udacity-project-01</td><td>AutoML_b82a165d-32d7-40dc-8988-8fdd2e017f33</td><td>automl</td><td>NotStarted</td><td><a href=\"https://ml.azure.com/runs/AutoML_b82a165d-32d7-40dc-8988-8fdd2e017f33?wsid=/subscriptions/1a342961-1209-4b7b-9e44-318aeea934e8/resourcegroups/DataEngineering/workspaces/ml-playground-01&amp;tid=7372f5ba-1acf-477d-b240-4a81fd41c1ed\" target=\"_blank\" rel=\"noopener\">Link to Azure Machine Learning studio</a></td><td><a href=\"https://docs.microsoft.com/en-us/python/api/overview/azure/ml/intro?view=azure-ml-py\" target=\"_blank\" rel=\"noopener\">Link to Documentation</a></td></tr></table>"
          },
          "metadata": {}
        }
      ],
      "execution_count": 29,
      "metadata": {
        "jupyter": {
          "outputs_hidden": false,
          "source_hidden": false
        },
        "nteract": {
          "transient": {
            "deleting": false
          }
        },
        "gather": {
          "logged": 1624307033821
        }
      }
    },
    {
      "cell_type": "code",
      "source": [
        "# watch run\r\n",
        "RunDetails(automl_run).show()"
      ],
      "outputs": [
        {
          "output_type": "display_data",
          "data": {
            "text/plain": "_AutoMLWidget(widget_settings={'childWidgetDisplay': 'popup', 'send_telemetry': False, 'log_level': 'INFO', 's…",
            "application/vnd.jupyter.widget-view+json": {
              "version_major": 2,
              "version_minor": 0,
              "model_id": "48e6ec1cb8a54aa6a52dd74a2ce0eacb"
            }
          },
          "metadata": {}
        },
        {
          "output_type": "display_data",
          "data": {
            "application/aml.mini.widget.v1": "{\"status\": \"Completed\", \"workbench_run_details_uri\": \"https://ml.azure.com/runs/AutoML_b82a165d-32d7-40dc-8988-8fdd2e017f33?wsid=/subscriptions/1a342961-1209-4b7b-9e44-318aeea934e8/resourcegroups/DataEngineering/workspaces/ml-playground-01&tid=7372f5ba-1acf-477d-b240-4a81fd41c1ed\", \"run_id\": \"AutoML_b82a165d-32d7-40dc-8988-8fdd2e017f33\", \"run_properties\": {\"run_id\": \"AutoML_b82a165d-32d7-40dc-8988-8fdd2e017f33\", \"created_utc\": \"2021-06-21T20:23:51.175188Z\", \"properties\": {\"num_iterations\": \"144\", \"training_type\": \"TrainFull\", \"acquisition_function\": \"EI\", \"primary_metric\": \"AUC_weighted\", \"train_split\": \"0\", \"acquisition_parameter\": \"0\", \"num_cross_validation\": \"10\", \"target\": \"testing-123\", \"AMLSettingsJsonString\": \"{\\\"path\\\":null,\\\"name\\\":\\\"udacity-project-01\\\",\\\"subscription_id\\\":\\\"1a342961-1209-4b7b-9e44-318aeea934e8\\\",\\\"resource_group\\\":\\\"DataEngineering\\\",\\\"workspace_name\\\":\\\"ml-playground-01\\\",\\\"region\\\":\\\"eastus\\\",\\\"compute_target\\\":\\\"testing-123\\\",\\\"spark_service\\\":null,\\\"azure_service\\\":\\\"remote\\\",\\\"many_models\\\":false,\\\"pipeline_fetch_max_batch_size\\\":1,\\\"enable_batch_run\\\":false,\\\"enable_run_restructure\\\":false,\\\"start_auxiliary_runs_before_parent_complete\\\":false,\\\"enable_code_generation\\\":false,\\\"iterations\\\":144,\\\"primary_metric\\\":\\\"AUC_weighted\\\",\\\"task_type\\\":\\\"classification\\\",\\\"data_script\\\":null,\\\"test_size\\\":0.0,\\\"validation_size\\\":0.0,\\\"n_cross_validations\\\":10,\\\"y_min\\\":null,\\\"y_max\\\":null,\\\"num_classes\\\":null,\\\"featurization\\\":\\\"auto\\\",\\\"_ignore_package_version_incompatibilities\\\":false,\\\"is_timeseries\\\":false,\\\"max_cores_per_iteration\\\":-1,\\\"max_concurrent_iterations\\\":12,\\\"iteration_timeout_minutes\\\":null,\\\"mem_in_mb\\\":null,\\\"enforce_time_on_windows\\\":false,\\\"experiment_timeout_minutes\\\":30,\\\"experiment_exit_score\\\":null,\\\"whitelist_models\\\":null,\\\"blacklist_algos\\\":[\\\"TensorFlowLinearClassifier\\\",\\\"TensorFlowDNN\\\"],\\\"supported_models\\\":[\\\"KNN\\\",\\\"RandomForest\\\",\\\"DecisionTree\\\",\\\"GradientBoosting\\\",\\\"TensorFlowLinearClassifier\\\",\\\"TensorFlowDNN\\\",\\\"SGD\\\",\\\"ExtremeRandomTrees\\\",\\\"LightGBM\\\",\\\"MultinomialNaiveBayes\\\",\\\"BernoulliNaiveBayes\\\",\\\"SVM\\\",\\\"LinearSVM\\\",\\\"XGBoostClassifier\\\",\\\"LogisticRegression\\\",\\\"AveragedPerceptronClassifier\\\"],\\\"private_models\\\":[],\\\"auto_blacklist\\\":true,\\\"blacklist_samples_reached\\\":false,\\\"exclude_nan_labels\\\":true,\\\"verbosity\\\":20,\\\"_debug_log\\\":\\\"azureml_automl.log\\\",\\\"show_warnings\\\":false,\\\"model_explainability\\\":true,\\\"service_url\\\":null,\\\"sdk_url\\\":null,\\\"sdk_packages\\\":null,\\\"enable_onnx_compatible_models\\\":false,\\\"enable_split_onnx_featurizer_estimator_models\\\":false,\\\"vm_type\\\":\\\"STANDARD_D2_V2\\\",\\\"telemetry_verbosity\\\":20,\\\"send_telemetry\\\":true,\\\"enable_dnn\\\":false,\\\"scenario\\\":\\\"SDK-1.13.0\\\",\\\"environment_label\\\":null,\\\"save_mlflow\\\":false,\\\"force_text_dnn\\\":false,\\\"enable_feature_sweeping\\\":true,\\\"enable_early_stopping\\\":true,\\\"early_stopping_n_iters\\\":10,\\\"metrics\\\":null,\\\"enable_metric_confidence\\\":false,\\\"enable_ensembling\\\":true,\\\"enable_stack_ensembling\\\":true,\\\"ensemble_iterations\\\":15,\\\"enable_tf\\\":false,\\\"enable_subsampling\\\":false,\\\"subsample_seed\\\":null,\\\"enable_nimbusml\\\":false,\\\"enable_streaming\\\":false,\\\"force_streaming\\\":false,\\\"track_child_runs\\\":true,\\\"allowed_private_models\\\":[],\\\"label_column_name\\\":\\\"y\\\",\\\"weight_column_name\\\":null,\\\"cv_split_column_names\\\":null,\\\"enable_local_managed\\\":false,\\\"_local_managed_run_id\\\":null,\\\"cost_mode\\\":1,\\\"lag_length\\\":0,\\\"metric_operation\\\":\\\"maximize\\\",\\\"preprocess\\\":true}\", \"DataPrepJsonString\": \"{\\\\\\\"training_data\\\\\\\": {\\\\\\\"datasetId\\\\\\\": \\\\\\\"c11c50c2-9a12-4a26-a641-72fbb5ee019c\\\\\\\"}, \\\\\\\"datasets\\\\\\\": 0}\", \"EnableSubsampling\": \"False\", \"runTemplate\": \"AutoML\", \"azureml.runsource\": \"automl\", \"display_task_type\": \"classification\", \"dependencies_versions\": \"{\\\"azureml-widgets\\\": \\\"1.28.0\\\", \\\"azureml-train\\\": \\\"1.28.0\\\", \\\"azureml-train-restclients-hyperdrive\\\": \\\"1.28.0\\\", \\\"azureml-train-core\\\": \\\"1.28.0\\\", \\\"azureml-train-automl\\\": \\\"1.28.0\\\", \\\"azureml-train-automl-runtime\\\": \\\"1.28.0\\\", \\\"azureml-train-automl-client\\\": \\\"1.28.0\\\", \\\"azureml-tensorboard\\\": \\\"1.28.0\\\", \\\"azureml-telemetry\\\": \\\"1.28.0\\\", \\\"azureml-sdk\\\": \\\"1.28.0\\\", \\\"azureml-samples\\\": \\\"0+unknown\\\", \\\"azureml-pipeline\\\": \\\"1.28.0\\\", \\\"azureml-pipeline-steps\\\": \\\"1.28.0\\\", \\\"azureml-pipeline-core\\\": \\\"1.28.0\\\", \\\"azureml-opendatasets\\\": \\\"1.28.0\\\", \\\"azureml-model-management-sdk\\\": \\\"1.0.1b6.post1\\\", \\\"azureml-mlflow\\\": \\\"1.28.0\\\", \\\"azureml-interpret\\\": \\\"1.28.0\\\", \\\"azureml-explain-model\\\": \\\"1.28.0\\\", \\\"azureml-defaults\\\": \\\"1.28.0\\\", \\\"azureml-dataset-runtime\\\": \\\"1.28.0\\\", \\\"azureml-dataprep\\\": \\\"2.15.0\\\", \\\"azureml-dataprep-rslex\\\": \\\"1.13.0\\\", \\\"azureml-dataprep-native\\\": \\\"33.0.0\\\", \\\"azureml-datadrift\\\": \\\"1.28.0\\\", \\\"azureml-core\\\": \\\"1.28.0\\\", \\\"azureml-contrib-services\\\": \\\"1.28.0\\\", \\\"azureml-contrib-server\\\": \\\"1.28.0\\\", \\\"azureml-contrib-reinforcementlearning\\\": \\\"1.28.0\\\", \\\"azureml-contrib-pipeline-steps\\\": \\\"1.28.0\\\", \\\"azureml-contrib-notebook\\\": \\\"1.28.0\\\", \\\"azureml-contrib-gbdt\\\": \\\"1.28.0\\\", \\\"azureml-contrib-fairness\\\": \\\"1.28.0\\\", \\\"azureml-contrib-dataset\\\": \\\"1.28.0\\\", \\\"azureml-cli-common\\\": \\\"1.28.0\\\", \\\"azureml-automl-runtime\\\": \\\"1.28.0.post2\\\", \\\"azureml-automl-dnn-nlp\\\": \\\"1.28.0\\\", \\\"azureml-automl-core\\\": \\\"1.28.0\\\", \\\"azureml-accel-models\\\": \\\"1.28.0\\\"}\", \"_aml_system_scenario_identification\": \"Remote.Parent\", \"ClientType\": \"SDK\", \"environment_cpu_name\": \"AzureML-AutoML\", \"environment_cpu_label\": \"prod\", \"environment_gpu_name\": \"AzureML-AutoML-GPU\", \"environment_gpu_label\": \"prod\", \"root_attribution\": \"automl\", \"attribution\": \"AutoML\", \"Orchestrator\": \"AutoML\", \"CancelUri\": \"https://eastus.api.azureml.ms/jasmine/v1.0/subscriptions/1a342961-1209-4b7b-9e44-318aeea934e8/resourceGroups/DataEngineering/providers/Microsoft.MachineLearningServices/workspaces/ml-playground-01/experimentids/f096d75a-e764-44ec-93fe-c6aa7f066d41/cancel/AutoML_b82a165d-32d7-40dc-8988-8fdd2e017f33\", \"azureml.git.repository_uri\": \"https://github.com/blallen/nd00333_AZMLND_Optimizing_a_Pipeline_in_Azure-Starter_Files.git\", \"mlflow.source.git.repoURL\": \"https://github.com/blallen/nd00333_AZMLND_Optimizing_a_Pipeline_in_Azure-Starter_Files.git\", \"azureml.git.branch\": \"master\", \"mlflow.source.git.branch\": \"master\", \"azureml.git.commit\": \"db82941b1063f1df36623515088d0ca7be7098f7\", \"mlflow.source.git.commit\": \"db82941b1063f1df36623515088d0ca7be7098f7\", \"azureml.git.dirty\": \"True\", \"ClientSdkVersion\": \"1.30.0\", \"snapshotId\": \"00000000-0000-0000-0000-000000000000\", \"SetupRunId\": \"AutoML_b82a165d-32d7-40dc-8988-8fdd2e017f33_setup\", \"SetupRunContainerId\": \"dcid.AutoML_b82a165d-32d7-40dc-8988-8fdd2e017f33_setup\", \"FeaturizationRunJsonPath\": \"featurizer_container.json\", \"FeaturizationRunId\": \"AutoML_b82a165d-32d7-40dc-8988-8fdd2e017f33_featurize\", \"ProblemInfoJsonString\": \"{\\\"dataset_num_categorical\\\": 0, \\\"is_sparse\\\": true, \\\"subsampling\\\": false, \\\"has_extra_col\\\": true, \\\"dataset_classes\\\": 2, \\\"dataset_features\\\": 132, \\\"dataset_samples\\\": 32950, \\\"single_frequency_class_detected\\\": false}\", \"ModelExplainRunId\": \"AutoML_b82a165d-32d7-40dc-8988-8fdd2e017f33_ModelExplain\"}, \"tags\": {\"model_explain_run\": \"best_run\", \"_aml_system_azureml.automlComponent\": \"AutoML\", \"pipeline_id\": \"\", \"score\": \"\", \"predicted_cost\": \"\", \"fit_time\": \"\", \"training_percent\": \"\", \"iteration\": \"\", \"run_preprocessor\": \"\", \"run_algorithm\": \"\", \"dynamic_whitelisting_iterations\": \"<25>;<30>;<33>;<38>;<45>;<50>;\", \"automl_best_child_run_id\": \"AutoML_b82a165d-32d7-40dc-8988-8fdd2e017f33_52\", \"model_explain_best_run_child_id\": \"AutoML_b82a165d-32d7-40dc-8988-8fdd2e017f33_52\"}, \"end_time_utc\": \"2021-06-21T20:43:46.878412Z\", \"status\": \"Completed\", \"log_files\": {}, \"log_groups\": [], \"run_duration\": \"0:19:55\", \"run_number\": \"496\", \"run_queued_details\": {\"status\": \"Completed\", \"details\": null}}, \"child_runs\": [{\"run_id\": \"AutoML_b82a165d-32d7-40dc-8988-8fdd2e017f33_1\", \"run_number\": 500, \"metric\": null, \"status\": \"Completed\", \"run_type\": \"azureml.scriptrun\", \"training_percent\": \"100\", \"start_time\": \"2021-06-21T20:32:02.426739Z\", \"end_time\": \"2021-06-21T20:32:59.599809Z\", \"created_time\": \"2021-06-21T20:30:48.984336Z\", \"created_time_dt\": \"2021-06-21T20:30:48.984336Z\", \"duration\": \"0:02:10\", \"iteration\": \"1\", \"goal\": \"AUC_weighted_max\", \"run_name\": \"MaxAbsScaler, XGBoostClassifier\", \"run_properties\": \"copy=True\", \"primary_metric\": 0.94728185, \"best_metric\": 0.95004166}, {\"run_id\": \"AutoML_b82a165d-32d7-40dc-8988-8fdd2e017f33_11\", \"run_number\": 501, \"metric\": null, \"status\": \"Completed\", \"run_type\": \"azureml.scriptrun\", \"training_percent\": \"100\", \"start_time\": \"2021-06-21T20:33:16.196254Z\", \"end_time\": \"2021-06-21T20:38:46.921611Z\", \"created_time\": \"2021-06-21T20:30:48.993418Z\", \"created_time_dt\": \"2021-06-21T20:30:48.993418Z\", \"duration\": \"0:07:57\", \"iteration\": \"11\", \"goal\": \"AUC_weighted_max\", \"run_name\": \"MaxAbsScaler, RandomForest\", \"run_properties\": \"copy=True\", \"primary_metric\": 0.88770746, \"best_metric\": 0.95004166}, {\"run_id\": \"AutoML_b82a165d-32d7-40dc-8988-8fdd2e017f33_3\", \"run_number\": 502, \"metric\": null, \"status\": \"Completed\", \"run_type\": \"azureml.scriptrun\", \"training_percent\": \"100\", \"start_time\": \"2021-06-21T20:33:21.157498Z\", \"end_time\": \"2021-06-21T20:38:56.075274Z\", \"created_time\": \"2021-06-21T20:30:48.99558Z\", \"created_time_dt\": \"2021-06-21T20:30:48.99558Z\", \"duration\": \"0:08:07\", \"iteration\": \"3\", \"goal\": \"AUC_weighted_max\", \"run_name\": \"MaxAbsScaler, RandomForest\", \"run_properties\": \"copy=True\", \"primary_metric\": 0.8905488, \"best_metric\": 0.95004166}, {\"run_id\": \"AutoML_b82a165d-32d7-40dc-8988-8fdd2e017f33_6\", \"run_number\": 503, \"metric\": null, \"status\": \"Completed\", \"run_type\": \"azureml.scriptrun\", \"training_percent\": \"100\", \"start_time\": \"2021-06-21T20:33:12.047631Z\", \"end_time\": \"2021-06-21T20:36:49.902501Z\", \"created_time\": \"2021-06-21T20:30:49.010084Z\", \"created_time_dt\": \"2021-06-21T20:30:49.010084Z\", \"duration\": \"0:06:00\", \"iteration\": \"6\", \"goal\": \"AUC_weighted_max\", \"run_name\": \"MaxAbsScaler, ExtremeRandomTrees\", \"run_properties\": \"copy=True\", \"primary_metric\": 0.88772903, \"best_metric\": 0.95004166}, {\"run_id\": \"AutoML_b82a165d-32d7-40dc-8988-8fdd2e017f33_7\", \"run_number\": 504, \"metric\": null, \"status\": \"Completed\", \"run_type\": \"azureml.scriptrun\", \"training_percent\": \"100\", \"start_time\": \"2021-06-21T20:30:57.293749Z\", \"end_time\": \"2021-06-21T20:31:44.598625Z\", \"created_time\": \"2021-06-21T20:30:49.013776Z\", \"created_time_dt\": \"2021-06-21T20:30:49.013776Z\", \"duration\": \"0:00:55\", \"iteration\": \"7\", \"goal\": \"AUC_weighted_max\", \"run_name\": \"MaxAbsScaler, ExtremeRandomTrees\", \"run_properties\": \"copy=True\", \"primary_metric\": 0.83007809, \"best_metric\": 0.95004166}, {\"run_id\": \"AutoML_b82a165d-32d7-40dc-8988-8fdd2e017f33_0\", \"run_number\": 505, \"metric\": null, \"status\": \"Completed\", \"run_type\": \"azureml.scriptrun\", \"training_percent\": \"100\", \"start_time\": \"2021-06-21T20:33:13.776766Z\", \"end_time\": \"2021-06-21T20:35:22.919579Z\", \"created_time\": \"2021-06-21T20:30:49.036772Z\", \"created_time_dt\": \"2021-06-21T20:30:49.036772Z\", \"duration\": \"0:04:33\", \"iteration\": \"0\", \"goal\": \"AUC_weighted_max\", \"run_name\": \"MaxAbsScaler, LightGBM\", \"run_properties\": \"copy=True\", \"primary_metric\": 0.95004166, \"best_metric\": 0.95004166}, {\"run_id\": \"AutoML_b82a165d-32d7-40dc-8988-8fdd2e017f33_8\", \"run_number\": 506, \"metric\": null, \"status\": \"Completed\", \"run_type\": \"azureml.scriptrun\", \"training_percent\": \"100\", \"start_time\": \"2021-06-21T20:33:25.293799Z\", \"end_time\": \"2021-06-21T20:38:50.748126Z\", \"created_time\": \"2021-06-21T20:30:49.107915Z\", \"created_time_dt\": \"2021-06-21T20:30:49.107915Z\", \"duration\": \"0:08:01\", \"iteration\": \"8\", \"goal\": \"AUC_weighted_max\", \"run_name\": \"MaxAbsScaler, RandomForest\", \"run_properties\": \"copy=True\", \"primary_metric\": 0.8915526, \"best_metric\": 0.95004166}, {\"run_id\": \"AutoML_b82a165d-32d7-40dc-8988-8fdd2e017f33_9\", \"run_number\": 507, \"metric\": null, \"status\": \"Completed\", \"run_type\": \"azureml.scriptrun\", \"training_percent\": \"100\", \"start_time\": \"2021-06-21T20:33:15.91384Z\", \"end_time\": \"2021-06-21T20:36:34.771246Z\", \"created_time\": \"2021-06-21T20:30:49.106478Z\", \"created_time_dt\": \"2021-06-21T20:30:49.106478Z\", \"duration\": \"0:05:45\", \"iteration\": \"9\", \"goal\": \"AUC_weighted_max\", \"run_name\": \"MaxAbsScaler, ExtremeRandomTrees\", \"run_properties\": \"copy=True\", \"primary_metric\": 0.82361065, \"best_metric\": 0.95004166}, {\"run_id\": \"AutoML_b82a165d-32d7-40dc-8988-8fdd2e017f33_4\", \"run_number\": 508, \"metric\": null, \"status\": \"Completed\", \"run_type\": \"azureml.scriptrun\", \"training_percent\": \"100\", \"start_time\": \"2021-06-21T20:33:24.099863Z\", \"end_time\": \"2021-06-21T20:38:55.799493Z\", \"created_time\": \"2021-06-21T20:30:48.992085Z\", \"created_time_dt\": \"2021-06-21T20:30:48.992085Z\", \"duration\": \"0:08:06\", \"iteration\": \"4\", \"goal\": \"AUC_weighted_max\", \"run_name\": \"MaxAbsScaler, RandomForest\", \"run_properties\": \"copy=True\", \"primary_metric\": 0.89541528, \"best_metric\": 0.95004166}, {\"run_id\": \"AutoML_b82a165d-32d7-40dc-8988-8fdd2e017f33_10\", \"run_number\": 509, \"metric\": null, \"status\": \"Completed\", \"run_type\": \"azureml.scriptrun\", \"training_percent\": \"100\", \"start_time\": \"2021-06-21T20:33:31.038415Z\", \"end_time\": \"2021-06-21T20:38:56.633762Z\", \"created_time\": \"2021-06-21T20:30:49.011758Z\", \"created_time_dt\": \"2021-06-21T20:30:49.011758Z\", \"duration\": \"0:08:07\", \"iteration\": \"10\", \"goal\": \"AUC_weighted_max\", \"run_name\": \"MaxAbsScaler, RandomForest\", \"run_properties\": \"copy=True\", \"primary_metric\": 0.86316713, \"best_metric\": 0.95004166}, {\"run_id\": \"AutoML_b82a165d-32d7-40dc-8988-8fdd2e017f33_5\", \"run_number\": 510, \"metric\": null, \"status\": \"Completed\", \"run_type\": \"azureml.scriptrun\", \"training_percent\": \"100\", \"start_time\": \"2021-06-21T20:33:21.683935Z\", \"end_time\": \"2021-06-21T20:38:59.520517Z\", \"created_time\": \"2021-06-21T20:30:49.130319Z\", \"created_time_dt\": \"2021-06-21T20:30:49.130319Z\", \"duration\": \"0:08:10\", \"iteration\": \"5\", \"goal\": \"AUC_weighted_max\", \"run_name\": \"MaxAbsScaler, ExtremeRandomTrees\", \"run_properties\": \"copy=True\", \"primary_metric\": 0.90881193, \"best_metric\": 0.95004166}, {\"run_id\": \"AutoML_b82a165d-32d7-40dc-8988-8fdd2e017f33_2\", \"run_number\": 511, \"metric\": null, \"status\": \"Completed\", \"run_type\": \"azureml.scriptrun\", \"training_percent\": \"100\", \"start_time\": \"2021-06-21T20:33:18.402253Z\", \"end_time\": \"2021-06-21T20:34:09.666784Z\", \"created_time\": \"2021-06-21T20:30:48.997564Z\", \"created_time_dt\": \"2021-06-21T20:30:48.997564Z\", \"duration\": \"0:03:20\", \"iteration\": \"2\", \"goal\": \"AUC_weighted_max\", \"run_name\": \"MaxAbsScaler, RandomForest\", \"run_properties\": \"copy=True\", \"primary_metric\": 0.91019497, \"best_metric\": 0.95004166}, {\"run_id\": \"AutoML_b82a165d-32d7-40dc-8988-8fdd2e017f33_12\", \"run_number\": 512, \"metric\": null, \"status\": \"Completed\", \"run_type\": \"azureml.scriptrun\", \"training_percent\": \"100\", \"start_time\": \"2021-06-21T20:33:24.145662Z\", \"end_time\": \"2021-06-21T20:38:59.951503Z\", \"created_time\": \"2021-06-21T20:31:49.816032Z\", \"created_time_dt\": \"2021-06-21T20:31:49.816032Z\", \"duration\": \"0:07:10\", \"iteration\": \"12\", \"goal\": \"AUC_weighted_max\", \"run_name\": \"MaxAbsScaler, RandomForest\", \"run_properties\": \"copy=True\", \"primary_metric\": 0.85640634, \"best_metric\": 0.95004166}, {\"run_id\": \"AutoML_b82a165d-32d7-40dc-8988-8fdd2e017f33_13\", \"run_number\": 513, \"metric\": null, \"status\": \"Completed\", \"run_type\": \"azureml.scriptrun\", \"training_percent\": \"100\", \"start_time\": \"2021-06-21T20:33:27.174919Z\", \"end_time\": \"2021-06-21T20:38:59.81475Z\", \"created_time\": \"2021-06-21T20:33:04.951667Z\", \"created_time_dt\": \"2021-06-21T20:33:04.951667Z\", \"duration\": \"0:05:54\", \"iteration\": \"13\", \"goal\": \"AUC_weighted_max\", \"run_name\": \"StandardScalerWrapper, XGBoostClassifier\", \"run_properties\": \"\\n    copy=True,\\n    with_mean=False,\\n    with_std=False\\n\", \"primary_metric\": 0.93461342, \"best_metric\": 0.95004166}, {\"run_id\": \"AutoML_b82a165d-32d7-40dc-8988-8fdd2e017f33_14\", \"run_number\": 514, \"metric\": null, \"status\": \"Completed\", \"run_type\": \"azureml.scriptrun\", \"training_percent\": \"100\", \"start_time\": \"2021-06-21T20:34:24.632759Z\", \"end_time\": \"2021-06-21T20:35:12.455712Z\", \"created_time\": \"2021-06-21T20:34:14.878834Z\", \"created_time_dt\": \"2021-06-21T20:34:14.878834Z\", \"duration\": \"0:00:57\", \"iteration\": \"14\", \"goal\": \"AUC_weighted_max\", \"run_name\": \"MaxAbsScaler, RandomForest\", \"run_properties\": \"copy=True\", \"primary_metric\": 0.89586088, \"best_metric\": 0.95004166}, {\"run_id\": \"AutoML_b82a165d-32d7-40dc-8988-8fdd2e017f33_15\", \"run_number\": 515, \"metric\": null, \"status\": \"Completed\", \"run_type\": \"azureml.scriptrun\", \"training_percent\": \"100\", \"start_time\": \"2021-06-21T20:35:25.634246Z\", \"end_time\": \"2021-06-21T20:36:13.100062Z\", \"created_time\": \"2021-06-21T20:35:17.075538Z\", \"created_time_dt\": \"2021-06-21T20:35:17.075538Z\", \"duration\": \"0:00:56\", \"iteration\": \"15\", \"goal\": \"AUC_weighted_max\", \"run_name\": \"StandardScalerWrapper, ExtremeRandomTrees\", \"run_properties\": \"\\n    copy=True,\\n    with_mean=False,\\n    with_std=False\\n\", \"primary_metric\": 0.87330132, \"best_metric\": 0.95004166}, {\"run_id\": \"AutoML_b82a165d-32d7-40dc-8988-8fdd2e017f33_16\", \"run_number\": 516, \"metric\": null, \"status\": \"Completed\", \"run_type\": \"azureml.scriptrun\", \"training_percent\": \"100\", \"start_time\": \"2021-06-21T20:35:38.633079Z\", \"end_time\": \"2021-06-21T20:36:22.905006Z\", \"created_time\": \"2021-06-21T20:35:27.783136Z\", \"created_time_dt\": \"2021-06-21T20:35:27.783136Z\", \"duration\": \"0:00:55\", \"iteration\": \"16\", \"goal\": \"AUC_weighted_max\", \"run_name\": \"MaxAbsScaler, ExtremeRandomTrees\", \"run_properties\": \"copy=True\", \"primary_metric\": 0.86155951, \"best_metric\": 0.95004166}, {\"run_id\": \"AutoML_b82a165d-32d7-40dc-8988-8fdd2e017f33_17\", \"run_number\": 517, \"metric\": null, \"status\": \"Completed\", \"run_type\": \"azureml.scriptrun\", \"training_percent\": \"100\", \"start_time\": \"2021-06-21T20:36:27.910014Z\", \"end_time\": \"2021-06-21T20:37:18.925714Z\", \"created_time\": \"2021-06-21T20:36:18.020467Z\", \"created_time_dt\": \"2021-06-21T20:36:18.020467Z\", \"duration\": \"0:01:00\", \"iteration\": \"17\", \"goal\": \"AUC_weighted_max\", \"run_name\": \"MaxAbsScaler, ExtremeRandomTrees\", \"run_properties\": \"copy=True\", \"primary_metric\": 0.81036532, \"best_metric\": 0.95004166}, {\"run_id\": \"AutoML_b82a165d-32d7-40dc-8988-8fdd2e017f33_18\", \"run_number\": 518, \"metric\": null, \"status\": \"Completed\", \"run_type\": \"azureml.scriptrun\", \"training_percent\": \"100\", \"start_time\": \"2021-06-21T20:36:44.05089Z\", \"end_time\": \"2021-06-21T20:37:28.832246Z\", \"created_time\": \"2021-06-21T20:36:27.859746Z\", \"created_time_dt\": \"2021-06-21T20:36:27.859746Z\", \"duration\": \"0:01:00\", \"iteration\": \"18\", \"goal\": \"AUC_weighted_max\", \"run_name\": \"MaxAbsScaler, RandomForest\", \"run_properties\": \"copy=True\", \"primary_metric\": 0.86039543, \"best_metric\": 0.95004166}, {\"run_id\": \"AutoML_b82a165d-32d7-40dc-8988-8fdd2e017f33_19\", \"run_number\": 519, \"metric\": null, \"status\": \"Completed\", \"run_type\": \"azureml.scriptrun\", \"training_percent\": \"100\", \"start_time\": \"2021-06-21T20:36:48.96387Z\", \"end_time\": \"2021-06-21T20:37:30.829669Z\", \"created_time\": \"2021-06-21T20:36:40.257075Z\", \"created_time_dt\": \"2021-06-21T20:36:40.257075Z\", \"duration\": \"0:00:50\", \"iteration\": \"19\", \"goal\": \"AUC_weighted_max\", \"run_name\": \"MaxAbsScaler, LightGBM\", \"run_properties\": \"copy=True\", \"primary_metric\": 0.94677041, \"best_metric\": 0.95004166}, {\"run_id\": \"AutoML_b82a165d-32d7-40dc-8988-8fdd2e017f33_20\", \"run_number\": 520, \"metric\": null, \"status\": \"Completed\", \"run_type\": \"azureml.scriptrun\", \"training_percent\": \"100\", \"start_time\": \"2021-06-21T20:37:03.986394Z\", \"end_time\": \"2021-06-21T20:37:46.904058Z\", \"created_time\": \"2021-06-21T20:36:54.075389Z\", \"created_time_dt\": \"2021-06-21T20:36:54.075389Z\", \"duration\": \"0:00:52\", \"iteration\": \"20\", \"goal\": \"AUC_weighted_max\", \"run_name\": \"MaxAbsScaler, LightGBM\", \"run_properties\": \"copy=True\", \"primary_metric\": 0.94027861, \"best_metric\": 0.95004166}, {\"run_id\": \"AutoML_b82a165d-32d7-40dc-8988-8fdd2e017f33_21\", \"run_number\": 521, \"metric\": null, \"status\": \"Completed\", \"run_type\": \"azureml.scriptrun\", \"training_percent\": \"100\", \"start_time\": \"2021-06-21T20:37:32.293532Z\", \"end_time\": \"2021-06-21T20:38:17.139078Z\", \"created_time\": \"2021-06-21T20:37:23.294631Z\", \"created_time_dt\": \"2021-06-21T20:37:23.294631Z\", \"duration\": \"0:00:53\", \"iteration\": \"21\", \"goal\": \"AUC_weighted_max\", \"run_name\": \"MaxAbsScaler, LightGBM\", \"run_properties\": \"copy=True\", \"primary_metric\": 0.93487629, \"best_metric\": 0.95004166}, {\"run_id\": \"AutoML_b82a165d-32d7-40dc-8988-8fdd2e017f33_22\", \"run_number\": 522, \"metric\": null, \"status\": \"Completed\", \"run_type\": \"azureml.scriptrun\", \"training_percent\": \"100\", \"start_time\": \"2021-06-21T20:37:44.950907Z\", \"end_time\": \"2021-06-21T20:38:27.81793Z\", \"created_time\": \"2021-06-21T20:37:32.725239Z\", \"created_time_dt\": \"2021-06-21T20:37:32.725239Z\", \"duration\": \"0:00:55\", \"iteration\": \"22\", \"goal\": \"AUC_weighted_max\", \"run_name\": \"MaxAbsScaler, LightGBM\", \"run_properties\": \"copy=True\", \"primary_metric\": 0.94539298, \"best_metric\": 0.95004166}, {\"run_id\": \"AutoML_b82a165d-32d7-40dc-8988-8fdd2e017f33_23\", \"run_number\": 523, \"metric\": null, \"status\": \"Completed\", \"run_type\": \"azureml.scriptrun\", \"training_percent\": \"100\", \"start_time\": \"2021-06-21T20:37:46.317102Z\", \"end_time\": \"2021-06-21T20:39:52.508702Z\", \"created_time\": \"2021-06-21T20:37:38.577015Z\", \"created_time_dt\": \"2021-06-21T20:37:38.577015Z\", \"duration\": \"0:02:13\", \"iteration\": \"23\", \"goal\": \"AUC_weighted_max\", \"run_name\": \"StandardScalerWrapper, LogisticRegression\", \"run_properties\": \"\\n    copy=True,\\n    with_mean=False,\\n    with_std=True\\n\", \"primary_metric\": 0.93607537, \"best_metric\": 0.95004166}, {\"run_id\": \"AutoML_b82a165d-32d7-40dc-8988-8fdd2e017f33_24\", \"run_number\": 524, \"metric\": null, \"status\": \"Completed\", \"run_type\": \"azureml.scriptrun\", \"training_percent\": \"100\", \"start_time\": \"2021-06-21T20:38:03.64867Z\", \"end_time\": \"2021-06-21T20:38:43.74119Z\", \"created_time\": \"2021-06-21T20:37:51.023859Z\", \"created_time_dt\": \"2021-06-21T20:37:51.023859Z\", \"duration\": \"0:00:52\", \"iteration\": \"24\", \"goal\": \"AUC_weighted_max\", \"run_name\": \"MaxAbsScaler, LightGBM\", \"run_properties\": \"copy=True\", \"primary_metric\": 0.93465289, \"best_metric\": 0.95004166}, {\"run_id\": \"AutoML_b82a165d-32d7-40dc-8988-8fdd2e017f33_25\", \"run_number\": 525, \"metric\": null, \"status\": \"Completed\", \"run_type\": \"azureml.scriptrun\", \"training_percent\": \"100\", \"start_time\": \"2021-06-21T20:38:34.306665Z\", \"end_time\": \"2021-06-21T20:40:25.796132Z\", \"created_time\": \"2021-06-21T20:38:22.040098Z\", \"created_time_dt\": \"2021-06-21T20:38:22.040098Z\", \"duration\": \"0:02:03\", \"iteration\": \"25\", \"goal\": \"AUC_weighted_max\", \"run_name\": \"StandardScalerWrapper, LightGBM\", \"run_properties\": \"\\n    copy=True,\\n    with_mean=False,\\n    with_std=False\\n\", \"primary_metric\": 0.93402158, \"best_metric\": 0.95004166}, {\"run_id\": \"AutoML_b82a165d-32d7-40dc-8988-8fdd2e017f33_26\", \"run_number\": 526, \"metric\": null, \"status\": \"Completed\", \"run_type\": \"azureml.scriptrun\", \"training_percent\": \"100\", \"start_time\": \"2021-06-21T20:38:43.846388Z\", \"end_time\": \"2021-06-21T20:39:29.49688Z\", \"created_time\": \"2021-06-21T20:38:32.110903Z\", \"created_time_dt\": \"2021-06-21T20:38:32.110903Z\", \"duration\": \"0:00:57\", \"iteration\": \"26\", \"goal\": \"AUC_weighted_max\", \"run_name\": \"MaxAbsScaler, LightGBM\", \"run_properties\": \"copy=True\", \"primary_metric\": 0.94374327, \"best_metric\": 0.95004166}, {\"run_id\": \"AutoML_b82a165d-32d7-40dc-8988-8fdd2e017f33_27\", \"run_number\": 527, \"metric\": null, \"status\": \"Completed\", \"run_type\": \"azureml.scriptrun\", \"training_percent\": \"100\", \"start_time\": \"2021-06-21T20:38:56.60906Z\", \"end_time\": \"2021-06-21T20:39:49.494784Z\", \"created_time\": \"2021-06-21T20:38:48.016627Z\", \"created_time_dt\": \"2021-06-21T20:38:48.016627Z\", \"duration\": \"0:01:01\", \"iteration\": \"27\", \"goal\": \"AUC_weighted_max\", \"run_name\": \"MaxAbsScaler, LightGBM\", \"run_properties\": \"copy=True\", \"primary_metric\": 0.94740547, \"best_metric\": 0.95004166}, {\"run_id\": \"AutoML_b82a165d-32d7-40dc-8988-8fdd2e017f33_28\", \"run_number\": 528, \"metric\": null, \"status\": \"Completed\", \"run_type\": \"azureml.scriptrun\", \"training_percent\": \"100\", \"start_time\": \"2021-06-21T20:39:00.61973Z\", \"end_time\": \"2021-06-21T20:40:12.033169Z\", \"created_time\": \"2021-06-21T20:38:53.11555Z\", \"created_time_dt\": \"2021-06-21T20:38:53.11555Z\", \"duration\": \"0:01:18\", \"iteration\": \"28\", \"goal\": \"AUC_weighted_max\", \"run_name\": \"StandardScalerWrapper, XGBoostClassifier\", \"run_properties\": \"\\n    copy=True,\\n    with_mean=False,\\n    with_std=False\\n\", \"primary_metric\": 0.94921519, \"best_metric\": 0.95004166}, {\"run_id\": \"AutoML_b82a165d-32d7-40dc-8988-8fdd2e017f33_29\", \"run_number\": 529, \"metric\": null, \"status\": \"Completed\", \"run_type\": \"azureml.scriptrun\", \"training_percent\": \"100\", \"start_time\": \"2021-06-21T20:39:07.254795Z\", \"end_time\": \"2021-06-21T20:39:52.446249Z\", \"created_time\": \"2021-06-21T20:38:57.729267Z\", \"created_time_dt\": \"2021-06-21T20:38:57.729267Z\", \"duration\": \"0:00:54\", \"iteration\": \"29\", \"goal\": \"AUC_weighted_max\", \"run_name\": \"MaxAbsScaler, LightGBM\", \"run_properties\": \"copy=True\", \"primary_metric\": 0.93452892, \"best_metric\": 0.95004166}, {\"run_id\": \"AutoML_b82a165d-32d7-40dc-8988-8fdd2e017f33_32\", \"run_number\": 530, \"metric\": null, \"status\": \"Completed\", \"run_type\": \"azureml.scriptrun\", \"training_percent\": \"100\", \"start_time\": \"2021-06-21T20:39:10.183494Z\", \"end_time\": \"2021-06-21T20:40:21.671861Z\", \"created_time\": \"2021-06-21T20:39:02.638389Z\", \"created_time_dt\": \"2021-06-21T20:39:02.638389Z\", \"duration\": \"0:01:19\", \"iteration\": \"32\", \"goal\": \"AUC_weighted_max\", \"run_name\": \"MaxAbsScaler, LogisticRegression\", \"run_properties\": \"copy=True\", \"primary_metric\": 0.93252754, \"best_metric\": 0.95004166}, {\"run_id\": \"AutoML_b82a165d-32d7-40dc-8988-8fdd2e017f33_31\", \"run_number\": 531, \"metric\": null, \"status\": \"Completed\", \"run_type\": \"azureml.scriptrun\", \"training_percent\": \"100\", \"start_time\": \"2021-06-21T20:39:10.273479Z\", \"end_time\": \"2021-06-21T20:40:09.206658Z\", \"created_time\": \"2021-06-21T20:39:02.649859Z\", \"created_time_dt\": \"2021-06-21T20:39:02.649859Z\", \"duration\": \"0:01:06\", \"iteration\": \"31\", \"goal\": \"AUC_weighted_max\", \"run_name\": \"MaxAbsScaler, LogisticRegression\", \"run_properties\": \"copy=True\", \"primary_metric\": 0.93180891, \"best_metric\": 0.95004166}, {\"run_id\": \"AutoML_b82a165d-32d7-40dc-8988-8fdd2e017f33_30\", \"run_number\": 532, \"metric\": null, \"status\": \"Completed\", \"run_type\": \"azureml.scriptrun\", \"training_percent\": \"100\", \"start_time\": \"2021-06-21T20:39:10.470268Z\", \"end_time\": \"2021-06-21T20:39:52.045071Z\", \"created_time\": \"2021-06-21T20:39:02.636573Z\", \"created_time_dt\": \"2021-06-21T20:39:02.636573Z\", \"duration\": \"0:00:49\", \"iteration\": \"30\", \"goal\": \"AUC_weighted_max\", \"run_name\": \"MaxAbsScaler, LightGBM\", \"run_properties\": \"copy=True\", \"primary_metric\": 0.93556175, \"best_metric\": 0.95004166}, {\"run_id\": \"AutoML_b82a165d-32d7-40dc-8988-8fdd2e017f33_34\", \"run_number\": 533, \"metric\": null, \"status\": \"Completed\", \"run_type\": \"azureml.scriptrun\", \"training_percent\": \"100\", \"start_time\": \"2021-06-21T20:39:16.53199Z\", \"end_time\": \"2021-06-21T20:40:48.975003Z\", \"created_time\": \"2021-06-21T20:39:07.421258Z\", \"created_time_dt\": \"2021-06-21T20:39:07.421258Z\", \"duration\": \"0:01:41\", \"iteration\": \"34\", \"goal\": \"AUC_weighted_max\", \"run_name\": \"StandardScalerWrapper, XGBoostClassifier\", \"run_properties\": \"\\n    copy=True,\\n    with_mean=False,\\n    with_std=False\\n\", \"primary_metric\": 0.94725688, \"best_metric\": 0.95004166}, {\"run_id\": \"AutoML_b82a165d-32d7-40dc-8988-8fdd2e017f33_33\", \"run_number\": 534, \"metric\": null, \"status\": \"Completed\", \"run_type\": \"azureml.scriptrun\", \"training_percent\": \"100\", \"start_time\": \"2021-06-21T20:39:15.651551Z\", \"end_time\": \"2021-06-21T20:40:00.130071Z\", \"created_time\": \"2021-06-21T20:39:07.425755Z\", \"created_time_dt\": \"2021-06-21T20:39:07.425755Z\", \"duration\": \"0:00:52\", \"iteration\": \"33\", \"goal\": \"AUC_weighted_max\", \"run_name\": \"MaxAbsScaler, LightGBM\", \"run_properties\": \"copy=True\", \"primary_metric\": 0.94079067, \"best_metric\": 0.95004166}, {\"run_id\": \"AutoML_b82a165d-32d7-40dc-8988-8fdd2e017f33_35\", \"run_number\": 535, \"metric\": null, \"status\": \"Completed\", \"run_type\": \"azureml.scriptrun\", \"training_percent\": \"100\", \"start_time\": \"2021-06-21T20:39:15.212676Z\", \"end_time\": \"2021-06-21T20:40:02.999647Z\", \"created_time\": \"2021-06-21T20:39:07.462477Z\", \"created_time_dt\": \"2021-06-21T20:39:07.462477Z\", \"duration\": \"0:00:55\", \"iteration\": \"35\", \"goal\": \"AUC_weighted_max\", \"run_name\": \"StandardScalerWrapper, XGBoostClassifier\", \"run_properties\": \"\\n    copy=True,\\n    with_mean=False,\\n    with_std=False\\n\", \"primary_metric\": 0.94173964, \"best_metric\": 0.95004166}, {\"run_id\": \"AutoML_b82a165d-32d7-40dc-8988-8fdd2e017f33_36\", \"run_number\": 536, \"metric\": null, \"status\": \"Completed\", \"run_type\": \"azureml.scriptrun\", \"training_percent\": \"100\", \"start_time\": \"2021-06-21T20:39:38.874533Z\", \"end_time\": \"2021-06-21T20:40:20.276948Z\", \"created_time\": \"2021-06-21T20:39:31.275261Z\", \"created_time_dt\": \"2021-06-21T20:39:31.275261Z\", \"duration\": \"0:00:49\", \"iteration\": \"36\", \"goal\": \"AUC_weighted_max\", \"run_name\": \"MaxAbsScaler, LightGBM\", \"run_properties\": \"copy=True\", \"primary_metric\": 0.94048261, \"best_metric\": 0.95004166}, {\"run_id\": \"AutoML_b82a165d-32d7-40dc-8988-8fdd2e017f33_37\", \"run_number\": 537, \"metric\": null, \"status\": \"Completed\", \"run_type\": \"azureml.scriptrun\", \"training_percent\": \"100\", \"start_time\": \"2021-06-21T20:40:01.125843Z\", \"end_time\": \"2021-06-21T20:40:43.278196Z\", \"created_time\": \"2021-06-21T20:39:51.253408Z\", \"created_time_dt\": \"2021-06-21T20:39:51.253408Z\", \"duration\": \"0:00:52\", \"iteration\": \"37\", \"goal\": \"AUC_weighted_max\", \"run_name\": \"MaxAbsScaler, LightGBM\", \"run_properties\": \"copy=True\", \"primary_metric\": 0.9071787, \"best_metric\": 0.95004166}, {\"run_id\": \"AutoML_b82a165d-32d7-40dc-8988-8fdd2e017f33_38\", \"run_number\": 538, \"metric\": null, \"status\": \"Completed\", \"run_type\": \"azureml.scriptrun\", \"training_percent\": \"100\", \"start_time\": \"2021-06-21T20:40:05.623732Z\", \"end_time\": \"2021-06-21T20:40:47.875035Z\", \"created_time\": \"2021-06-21T20:39:55.329838Z\", \"created_time_dt\": \"2021-06-21T20:39:55.329838Z\", \"duration\": \"0:00:52\", \"iteration\": \"38\", \"goal\": \"AUC_weighted_max\", \"run_name\": \"MaxAbsScaler, LightGBM\", \"run_properties\": \"copy=True\", \"primary_metric\": 0.91360758, \"best_metric\": 0.95004166}, {\"run_id\": \"AutoML_b82a165d-32d7-40dc-8988-8fdd2e017f33_40\", \"run_number\": 539, \"metric\": null, \"status\": \"Canceled\", \"run_type\": \"azureml.scriptrun\", \"training_percent\": \"100\", \"start_time\": \"2021-06-21T20:40:05.228392Z\", \"end_time\": \"2021-06-21T20:41:06.388587Z\", \"created_time\": \"2021-06-21T20:39:55.337666Z\", \"created_time_dt\": \"2021-06-21T20:39:55.337666Z\", \"duration\": \"0:01:11\", \"iteration\": \"40\", \"goal\": null, \"run_name\": \"StandardScalerWrapper, XGBoostClassifier\", \"run_properties\": null}, {\"run_id\": \"AutoML_b82a165d-32d7-40dc-8988-8fdd2e017f33_39\", \"run_number\": 540, \"metric\": null, \"status\": \"Completed\", \"run_type\": \"azureml.scriptrun\", \"training_percent\": \"100\", \"start_time\": \"2021-06-21T20:40:05.248746Z\", \"end_time\": \"2021-06-21T20:40:56.09876Z\", \"created_time\": \"2021-06-21T20:39:55.338549Z\", \"created_time_dt\": \"2021-06-21T20:39:55.338549Z\", \"duration\": \"0:01:00\", \"iteration\": \"39\", \"goal\": \"AUC_weighted_max\", \"run_name\": \"StandardScalerWrapper, XGBoostClassifier\", \"run_properties\": \"\\n    copy=True,\\n    with_mean=False,\\n    with_std=False\\n\", \"primary_metric\": 0.94917504, \"best_metric\": 0.95004166}, {\"run_id\": \"AutoML_b82a165d-32d7-40dc-8988-8fdd2e017f33_41\", \"run_number\": 541, \"metric\": null, \"status\": \"Canceled\", \"run_type\": \"azureml.scriptrun\", \"training_percent\": \"100\", \"start_time\": \"2021-06-21T20:40:09.64025Z\", \"end_time\": \"2021-06-21T20:41:06.5349Z\", \"created_time\": \"2021-06-21T20:40:01.923335Z\", \"created_time_dt\": \"2021-06-21T20:40:01.923335Z\", \"duration\": \"0:01:04\", \"iteration\": \"41\", \"goal\": null, \"run_name\": \"TruncatedSVDWrapper, XGBoostClassifier\", \"run_properties\": null}, {\"run_id\": \"AutoML_b82a165d-32d7-40dc-8988-8fdd2e017f33_42\", \"run_number\": 542, \"metric\": null, \"status\": \"Completed\", \"run_type\": \"azureml.scriptrun\", \"training_percent\": \"100\", \"start_time\": \"2021-06-21T20:40:17.139631Z\", \"end_time\": \"2021-06-21T20:40:59.844827Z\", \"created_time\": \"2021-06-21T20:40:05.151997Z\", \"created_time_dt\": \"2021-06-21T20:40:05.151997Z\", \"duration\": \"0:00:54\", \"iteration\": \"42\", \"goal\": \"AUC_weighted_max\", \"run_name\": \"MaxAbsScaler, DecisionTree\", \"run_properties\": \"copy=True\", \"primary_metric\": 0.93697799, \"best_metric\": 0.95004166}, {\"run_id\": \"AutoML_b82a165d-32d7-40dc-8988-8fdd2e017f33_43\", \"run_number\": 543, \"metric\": null, \"status\": \"Canceled\", \"run_type\": \"azureml.scriptrun\", \"training_percent\": \"100\", \"start_time\": \"2021-06-21T20:40:18.659398Z\", \"end_time\": \"2021-06-21T20:41:07.016522Z\", \"created_time\": \"2021-06-21T20:40:11.123919Z\", \"created_time_dt\": \"2021-06-21T20:40:11.123919Z\", \"duration\": \"0:00:55\", \"iteration\": \"43\", \"goal\": \"AUC_weighted_max\", \"run_name\": \"MaxAbsScaler, LightGBM\", \"run_properties\": \"copy=True\", \"primary_metric\": 0.94607984, \"best_metric\": 0.95004166}, {\"run_id\": \"AutoML_b82a165d-32d7-40dc-8988-8fdd2e017f33_44\", \"run_number\": 544, \"metric\": null, \"status\": \"Canceled\", \"run_type\": \"azureml.scriptrun\", \"training_percent\": \"100\", \"start_time\": \"2021-06-21T20:40:21.703001Z\", \"end_time\": \"2021-06-21T20:41:06.627672Z\", \"created_time\": \"2021-06-21T20:40:14.263528Z\", \"created_time_dt\": \"2021-06-21T20:40:14.263528Z\", \"duration\": \"0:00:52\", \"iteration\": \"44\", \"goal\": \"AUC_weighted_max\", \"run_name\": \"MaxAbsScaler, LightGBM\", \"run_properties\": \"copy=True\", \"primary_metric\": 0.9389138, \"best_metric\": 0.95004166}, {\"run_id\": \"AutoML_b82a165d-32d7-40dc-8988-8fdd2e017f33_45\", \"run_number\": 545, \"metric\": null, \"status\": \"Canceled\", \"run_type\": \"azureml.scriptrun\", \"training_percent\": \"100\", \"start_time\": \"2021-06-21T20:40:32.943552Z\", \"end_time\": \"2021-06-21T20:41:06.336924Z\", \"created_time\": \"2021-06-21T20:40:22.911993Z\", \"created_time_dt\": \"2021-06-21T20:40:22.911993Z\", \"duration\": \"0:00:43\", \"iteration\": \"45\", \"goal\": \"AUC_weighted_max\", \"run_name\": \"MaxAbsScaler, LightGBM\", \"run_properties\": \"copy=True\", \"primary_metric\": 0.93426861, \"best_metric\": 0.95004166}, {\"run_id\": \"AutoML_b82a165d-32d7-40dc-8988-8fdd2e017f33_46\", \"run_number\": 546, \"metric\": null, \"status\": \"Canceled\", \"run_type\": \"azureml.scriptrun\", \"training_percent\": \"100\", \"start_time\": \"2021-06-21T20:40:33.533931Z\", \"end_time\": \"2021-06-21T20:41:06.429283Z\", \"created_time\": \"2021-06-21T20:40:26.023881Z\", \"created_time_dt\": \"2021-06-21T20:40:26.023881Z\", \"duration\": \"0:00:40\", \"iteration\": \"46\", \"goal\": null, \"run_name\": \"MaxAbsScaler, LightGBM\", \"run_properties\": null}, {\"run_id\": \"AutoML_b82a165d-32d7-40dc-8988-8fdd2e017f33_47\", \"run_number\": 547, \"metric\": null, \"status\": \"Canceled\", \"run_type\": \"azureml.scriptrun\", \"training_percent\": \"100\", \"start_time\": \"2021-06-21T20:40:37.415096Z\", \"end_time\": \"2021-06-21T20:41:06.306136Z\", \"created_time\": \"2021-06-21T20:40:28.999812Z\", \"created_time_dt\": \"2021-06-21T20:40:28.999812Z\", \"duration\": \"0:00:37\", \"iteration\": \"47\", \"goal\": null, \"run_name\": \"MaxAbsScaler, LightGBM\", \"run_properties\": null}, {\"run_id\": \"AutoML_b82a165d-32d7-40dc-8988-8fdd2e017f33_48\", \"run_number\": 548, \"metric\": null, \"status\": \"Canceled\", \"run_type\": \"azureml.scriptrun\", \"training_percent\": \"100\", \"start_time\": \"2021-06-21T20:40:59.503889Z\", \"end_time\": \"2021-06-21T20:41:06.487232Z\", \"created_time\": \"2021-06-21T20:40:45.052599Z\", \"created_time_dt\": \"2021-06-21T20:40:45.052599Z\", \"duration\": \"0:00:21\", \"iteration\": \"48\", \"goal\": null, \"run_name\": \"Canceled\", \"run_properties\": null}, {\"run_id\": \"AutoML_b82a165d-32d7-40dc-8988-8fdd2e017f33_49\", \"run_number\": 549, \"metric\": null, \"status\": \"Canceled\", \"run_type\": \"azureml.scriptrun\", \"training_percent\": \"100\", \"start_time\": \"2021-06-21T20:40:49.737912Z\", \"end_time\": \"2021-06-21T20:41:06.396909Z\", \"created_time\": \"2021-06-21T20:40:49.737912Z\", \"created_time_dt\": \"2021-06-21T20:40:49.737912Z\", \"duration\": \"0:00:16\", \"iteration\": \"49\", \"goal\": null, \"run_name\": \"Canceled\", \"run_properties\": null}, {\"run_id\": \"AutoML_b82a165d-32d7-40dc-8988-8fdd2e017f33_50\", \"run_number\": 550, \"metric\": null, \"status\": \"Canceled\", \"run_type\": \"azureml.scriptrun\", \"training_percent\": \"100\", \"start_time\": \"2021-06-21T20:40:53.424533Z\", \"end_time\": \"2021-06-21T20:41:06.35594Z\", \"created_time\": \"2021-06-21T20:40:53.424533Z\", \"created_time_dt\": \"2021-06-21T20:40:53.424533Z\", \"duration\": \"0:00:12\", \"iteration\": \"50\", \"goal\": null, \"run_name\": \"Canceled\", \"run_properties\": null}, {\"run_id\": \"AutoML_b82a165d-32d7-40dc-8988-8fdd2e017f33_51\", \"run_number\": 551, \"metric\": null, \"status\": \"Canceled\", \"run_type\": \"azureml.scriptrun\", \"training_percent\": \"100\", \"start_time\": \"2021-06-21T20:40:57.8224Z\", \"end_time\": \"2021-06-21T20:41:12.592195Z\", \"created_time\": \"2021-06-21T20:40:57.8224Z\", \"created_time_dt\": \"2021-06-21T20:40:57.8224Z\", \"duration\": \"0:00:14\", \"iteration\": \"51\", \"goal\": null, \"run_name\": \"Canceled\", \"run_properties\": null}, {\"run_id\": \"AutoML_b82a165d-32d7-40dc-8988-8fdd2e017f33_52\", \"run_number\": 552, \"metric\": null, \"status\": \"Completed\", \"run_type\": \"azureml.scriptrun\", \"training_percent\": \"100\", \"start_time\": \"2021-06-21T20:41:23.778028Z\", \"end_time\": \"2021-06-21T20:43:19.806802Z\", \"created_time\": \"2021-06-21T20:41:13.518549Z\", \"created_time_dt\": \"2021-06-21T20:41:13.518549Z\", \"duration\": \"0:02:06\", \"iteration\": \"52\", \"goal\": \"AUC_weighted_max\", \"run_name\": \"VotingEnsemble\", \"run_properties\": \"\\n    estimators=[('0', Pipeline(memory=None,\\n             steps=[('maxabsscaler', MaxAbsScaler(copy=True\", \"primary_metric\": 0.9506067, \"best_metric\": 0.9506067}, {\"run_id\": \"AutoML_b82a165d-32d7-40dc-8988-8fdd2e017f33_53\", \"run_number\": 553, \"metric\": null, \"status\": \"Completed\", \"run_type\": \"azureml.scriptrun\", \"training_percent\": \"100\", \"start_time\": \"2021-06-21T20:41:21.16057Z\", \"end_time\": \"2021-06-21T20:43:44.666427Z\", \"created_time\": \"2021-06-21T20:41:13.539369Z\", \"created_time_dt\": \"2021-06-21T20:41:13.539369Z\", \"duration\": \"0:02:31\", \"iteration\": \"53\", \"goal\": \"AUC_weighted_max\", \"run_name\": \"StackEnsemble\", \"run_properties\": \"\\n    base_learners=[('0', Pipeline(memory=None,\\n             steps=[('maxabsscaler', MaxAbsScaler(copy=True\", \"primary_metric\": 0.95033522, \"best_metric\": 0.9506067}], \"children_metrics\": {\"categories\": [0], \"series\": {\"precision_score_micro\": [{\"categories\": [\"0\", \"1\", \"2\", \"3\", \"4\", \"5\", \"6\", \"7\", \"8\", \"9\", \"10\", \"11\", \"12\", \"13\", \"14\", \"15\", \"16\", \"17\", \"18\", \"19\", \"20\", \"21\", \"22\", \"23\", \"24\", \"25\", \"26\", \"27\", \"28\", \"29\", \"30\", \"31\", \"32\", \"33\", \"34\", \"35\", \"36\", \"37\", \"38\", \"39\", \"42\", \"43\", \"44\", \"45\", \"52\", \"53\"], \"mode\": \"markers\", \"name\": \"precision_score_micro\", \"stepped\": false, \"type\": \"scatter\", \"data\": [0.9159635811836117, 0.9150531107739, 0.8926858877086495, 0.809833080424886, 0.8879514415781488, 0.8996358118361154, 0.8996054628224581, 0.8890136570561458, 0.8879514415781488, 0.7363277693474962, 0.7601213960546283, 0.7318361153262518, 0.7499241274658573, 0.908133535660091, 0.8911077389984825, 0.8879514415781488, 0.7674658573596359, 0.7534446130500758, 0.74, 0.9160849772382397, 0.9094385432473444, 0.9030045523520485, 0.9138998482549316, 0.8620637329286798, 0.9085584218512899, 0.8964795144157816, 0.8996965098634295, 0.9156600910470409, 0.9167830045523522, 0.9061608497723824, 0.9064643399089531, 0.9088012139605463, 0.9089833080424885, 0.8879514415781488, 0.9134749620637328, 0.9115022761760242, 0.8891047040971168, 0.8879514415781488, 0.8879514415781488, 0.9155083459787556, 0.9115629742033384, 0.9139301972685887, 0.900060698027314, 0.8879514415781488, 0.9169954476479514, 0.9170257966616087]}, {\"categories\": [\"0\", \"1\", \"2\", \"3\", \"4\", \"5\", \"6\", \"7\", \"8\", \"9\", \"10\", \"11\", \"12\", \"13\", \"14\", \"15\", \"16\", \"17\", \"18\", \"19\", \"20\", \"21\", \"22\", \"23\", \"24\", \"25\", \"26\", \"27\", \"28\", \"29\", \"30\", \"31\", \"32\", \"33\", \"34\", \"35\", \"36\", \"37\", \"38\", \"39\", \"42\", \"43\", \"44\", \"45\", \"52\", \"53\"], \"mode\": \"lines\", \"name\": \"precision_score_micro_max\", \"stepped\": true, \"type\": \"scatter\", \"data\": [0.9159635811836117, 0.9159635811836117, 0.9159635811836117, 0.9159635811836117, 0.9159635811836117, 0.9159635811836117, 0.9159635811836117, 0.9159635811836117, 0.9159635811836117, 0.9159635811836117, 0.9159635811836117, 0.9159635811836117, 0.9159635811836117, 0.9159635811836117, 0.9159635811836117, 0.9159635811836117, 0.9159635811836117, 0.9159635811836117, 0.9159635811836117, 0.9160849772382397, 0.9160849772382397, 0.9160849772382397, 0.9160849772382397, 0.9160849772382397, 0.9160849772382397, 0.9160849772382397, 0.9160849772382397, 0.9160849772382397, 0.9167830045523522, 0.9167830045523522, 0.9167830045523522, 0.9167830045523522, 0.9167830045523522, 0.9167830045523522, 0.9167830045523522, 0.9167830045523522, 0.9167830045523522, 0.9167830045523522, 0.9167830045523522, 0.9167830045523522, 0.9167830045523522, 0.9167830045523522, 0.9167830045523522, 0.9167830045523522, 0.9169954476479514, 0.9170257966616087]}], \"weighted_accuracy\": [{\"categories\": [\"0\", \"1\", \"2\", \"3\", \"4\", \"5\", \"6\", \"7\", \"8\", \"9\", \"10\", \"11\", \"12\", \"13\", \"14\", \"15\", \"16\", \"17\", \"18\", \"19\", \"20\", \"21\", \"22\", \"23\", \"24\", \"25\", \"26\", \"27\", \"28\", \"29\", \"30\", \"31\", \"32\", \"33\", \"34\", \"35\", \"36\", \"37\", \"38\", \"39\", \"42\", \"43\", \"44\", \"45\", \"52\", \"53\"], \"mode\": \"markers\", \"name\": \"weighted_accuracy\", \"stepped\": false, \"type\": \"scatter\", \"data\": [0.9556810676429688, 0.9597263247067321, 0.9819453451974958, 0.8142380319398255, 0.9842346128056952, 0.9766343941186928, 0.9776887147060689, 0.9842715412456868, 0.9842346128056952, 0.7398051110579528, 0.7609683184907288, 0.7129574359276967, 0.7537258268003544, 0.9760699067280028, 0.983324664591942, 0.9842346128056952, 0.7720429078127077, 0.7598153808229797, 0.7395936433951336, 0.9605992281766577, 0.9692084774576367, 0.9808321306046193, 0.9597949829276107, 0.859928330251992, 0.9716908223475021, 0.9832264183227742, 0.9825983348969645, 0.9584543241723404, 0.9567020681786154, 0.9742071013295325, 0.9774272654894336, 0.9632732205906006, 0.9633842419610351, 0.9842346128056952, 0.954215920077966, 0.9724668132423474, 0.984242960659838, 0.9842346128056952, 0.9842346128056952, 0.9559919904498788, 0.95570702398552, 0.9616704756871297, 0.9827385727355604, 0.9842346128056952, 0.9593522805571422, 0.9592034605290516]}, {\"categories\": [\"0\", \"1\", \"2\", \"3\", \"4\", \"5\", \"6\", \"7\", \"8\", \"9\", \"10\", \"11\", \"12\", \"13\", \"14\", \"15\", \"16\", \"17\", \"18\", \"19\", \"20\", \"21\", \"22\", \"23\", \"24\", \"25\", \"26\", \"27\", \"28\", \"29\", \"30\", \"31\", \"32\", \"33\", \"34\", \"35\", \"36\", \"37\", \"38\", \"39\", \"42\", \"43\", \"44\", \"45\", \"52\", \"53\"], \"mode\": \"lines\", \"name\": \"weighted_accuracy_max\", \"stepped\": true, \"type\": \"scatter\", \"data\": [0.9556810676429688, 0.9597263247067321, 0.9819453451974958, 0.9819453451974958, 0.9842346128056952, 0.9842346128056952, 0.9842346128056952, 0.9842715412456868, 0.9842715412456868, 0.9842715412456868, 0.9842715412456868, 0.9842715412456868, 0.9842715412456868, 0.9842715412456868, 0.9842715412456868, 0.9842715412456868, 0.9842715412456868, 0.9842715412456868, 0.9842715412456868, 0.9842715412456868, 0.9842715412456868, 0.9842715412456868, 0.9842715412456868, 0.9842715412456868, 0.9842715412456868, 0.9842715412456868, 0.9842715412456868, 0.9842715412456868, 0.9842715412456868, 0.9842715412456868, 0.9842715412456868, 0.9842715412456868, 0.9842715412456868, 0.9842715412456868, 0.9842715412456868, 0.9842715412456868, 0.9842715412456868, 0.9842715412456868, 0.9842715412456868, 0.9842715412456868, 0.9842715412456868, 0.9842715412456868, 0.9842715412456868, 0.9842715412456868, 0.9842715412456868, 0.9842715412456868]}], \"recall_score_weighted\": [{\"categories\": [\"0\", \"1\", \"2\", \"3\", \"4\", \"5\", \"6\", \"7\", \"8\", \"9\", \"10\", \"11\", \"12\", \"13\", \"14\", \"15\", \"16\", \"17\", \"18\", \"19\", \"20\", \"21\", \"22\", \"23\", \"24\", \"25\", \"26\", \"27\", \"28\", \"29\", \"30\", \"31\", \"32\", \"33\", \"34\", \"35\", \"36\", \"37\", \"38\", \"39\", \"42\", \"43\", \"44\", \"45\", \"52\", \"53\"], \"mode\": \"markers\", \"name\": \"recall_score_weighted\", \"stepped\": false, \"type\": \"scatter\", \"data\": [0.9159635811836117, 0.9150531107739, 0.8926858877086495, 0.809833080424886, 0.8879514415781488, 0.8996358118361154, 0.8996054628224581, 0.8890136570561458, 0.8879514415781488, 0.7363277693474962, 0.7601213960546283, 0.7318361153262518, 0.7499241274658573, 0.908133535660091, 0.8911077389984825, 0.8879514415781488, 0.7674658573596359, 0.7534446130500758, 0.74, 0.9160849772382397, 0.9094385432473444, 0.9030045523520485, 0.9138998482549316, 0.8620637329286798, 0.9085584218512899, 0.8964795144157816, 0.8996965098634295, 0.9156600910470409, 0.9167830045523522, 0.9061608497723824, 0.9064643399089531, 0.9088012139605463, 0.9089833080424885, 0.8879514415781488, 0.9134749620637328, 0.9115022761760242, 0.8891047040971168, 0.8879514415781488, 0.8879514415781488, 0.9155083459787556, 0.9115629742033384, 0.9139301972685887, 0.900060698027314, 0.8879514415781488, 0.9169954476479514, 0.9170257966616087]}, {\"categories\": [\"0\", \"1\", \"2\", \"3\", \"4\", \"5\", \"6\", \"7\", \"8\", \"9\", \"10\", \"11\", \"12\", \"13\", \"14\", \"15\", \"16\", \"17\", \"18\", \"19\", \"20\", \"21\", \"22\", \"23\", \"24\", \"25\", \"26\", \"27\", \"28\", \"29\", \"30\", \"31\", \"32\", \"33\", \"34\", \"35\", \"36\", \"37\", \"38\", \"39\", \"42\", \"43\", \"44\", \"45\", \"52\", \"53\"], \"mode\": \"lines\", \"name\": \"recall_score_weighted_max\", \"stepped\": true, \"type\": \"scatter\", \"data\": [0.9159635811836117, 0.9159635811836117, 0.9159635811836117, 0.9159635811836117, 0.9159635811836117, 0.9159635811836117, 0.9159635811836117, 0.9159635811836117, 0.9159635811836117, 0.9159635811836117, 0.9159635811836117, 0.9159635811836117, 0.9159635811836117, 0.9159635811836117, 0.9159635811836117, 0.9159635811836117, 0.9159635811836117, 0.9159635811836117, 0.9159635811836117, 0.9160849772382397, 0.9160849772382397, 0.9160849772382397, 0.9160849772382397, 0.9160849772382397, 0.9160849772382397, 0.9160849772382397, 0.9160849772382397, 0.9160849772382397, 0.9167830045523522, 0.9167830045523522, 0.9167830045523522, 0.9167830045523522, 0.9167830045523522, 0.9167830045523522, 0.9167830045523522, 0.9167830045523522, 0.9167830045523522, 0.9167830045523522, 0.9167830045523522, 0.9167830045523522, 0.9167830045523522, 0.9167830045523522, 0.9167830045523522, 0.9167830045523522, 0.9169954476479514, 0.9170257966616087]}], \"matthews_correlation\": [{\"categories\": [\"0\", \"1\", \"2\", \"3\", \"4\", \"5\", \"6\", \"7\", \"8\", \"9\", \"10\", \"11\", \"12\", \"13\", \"14\", \"15\", \"16\", \"17\", \"18\", \"19\", \"20\", \"21\", \"22\", \"23\", \"24\", \"25\", \"26\", \"27\", \"28\", \"29\", \"30\", \"31\", \"32\", \"33\", \"34\", \"35\", \"36\", \"37\", \"38\", \"39\", \"42\", \"43\", \"44\", \"45\", \"52\", \"53\"], \"mode\": \"markers\", \"name\": \"matthews_correlation\", \"stepped\": false, \"type\": \"scatter\", \"data\": [0.5496823686217902, 0.5292916174852582, 0.1867966096197888, 0.4251691700095487, 0.0, 0.3262620595680971, 0.3216251867365554, 0.04600709403309764, 0.0, 0.302916295343132, 0.35601880861479324, 0.4064951597964441, 0.3231021055186225, 0.4176840469958184, 0.14799301386518948, 0.0, 0.3516066087011499, 0.316255542377795, 0.3284242171473078, 0.5347968093711122, 0.45101148995572765, 0.3513033774904054, 0.5203936119624454, 0.5608539823777019, 0.43577710876393816, 0.26082881763523097, 0.3063958391037703, 0.5385179932259472, 0.5525237984716562, 0.404752907751015, 0.3969986153693851, 0.46686265433277796, 0.4681760218093626, 0.0, 0.5359370578485361, 0.45972985969566427, 0.06011349135390633, 0.0, 0.0, 0.5454109699415544, 0.5165237500041121, 0.5147323226368881, 0.31142600770967427, 0.0, 0.5454941258878294, 0.5465289537205231]}, {\"categories\": [\"0\", \"1\", \"2\", \"3\", \"4\", \"5\", \"6\", \"7\", \"8\", \"9\", \"10\", \"11\", \"12\", \"13\", \"14\", \"15\", \"16\", \"17\", \"18\", \"19\", \"20\", \"21\", \"22\", \"23\", \"24\", \"25\", \"26\", \"27\", \"28\", \"29\", \"30\", \"31\", \"32\", \"33\", \"34\", \"35\", \"36\", \"37\", \"38\", \"39\", \"42\", \"43\", \"44\", \"45\", \"52\", \"53\"], \"mode\": \"lines\", \"name\": \"matthews_correlation_max\", \"stepped\": true, \"type\": \"scatter\", \"data\": [0.5496823686217902, 0.5496823686217902, 0.5496823686217902, 0.5496823686217902, 0.5496823686217902, 0.5496823686217902, 0.5496823686217902, 0.5496823686217902, 0.5496823686217902, 0.5496823686217902, 0.5496823686217902, 0.5496823686217902, 0.5496823686217902, 0.5496823686217902, 0.5496823686217902, 0.5496823686217902, 0.5496823686217902, 0.5496823686217902, 0.5496823686217902, 0.5496823686217902, 0.5496823686217902, 0.5496823686217902, 0.5496823686217902, 0.5608539823777019, 0.5608539823777019, 0.5608539823777019, 0.5608539823777019, 0.5608539823777019, 0.5608539823777019, 0.5608539823777019, 0.5608539823777019, 0.5608539823777019, 0.5608539823777019, 0.5608539823777019, 0.5608539823777019, 0.5608539823777019, 0.5608539823777019, 0.5608539823777019, 0.5608539823777019, 0.5608539823777019, 0.5608539823777019, 0.5608539823777019, 0.5608539823777019, 0.5608539823777019, 0.5608539823777019, 0.5608539823777019]}], \"log_loss\": [{\"categories\": [\"0\", \"1\", \"2\", \"3\", \"4\", \"5\", \"6\", \"7\", \"8\", \"9\", \"10\", \"11\", \"12\", \"13\", \"14\", \"15\", \"16\", \"17\", \"18\", \"19\", \"20\", \"21\", \"22\", \"23\", \"24\", \"25\", \"26\", \"27\", \"28\", \"29\", \"30\", \"31\", \"32\", \"33\", \"34\", \"35\", \"36\", \"37\", \"38\", \"39\", \"42\", \"43\", \"44\", \"45\", \"52\", \"53\"], \"mode\": \"markers\", \"name\": \"log_loss\", \"stepped\": false, \"type\": \"scatter\", \"data\": [0.17081181786650063, 0.17630796995603099, 0.23528704653121837, 0.4903820444989753, 0.2590896273263945, 0.2333679945658924, 0.25356730774749614, 0.28221684765383437, 0.27218779172482266, 0.5501052893151346, 0.5212456405862268, 0.47832898209982994, 0.5775846537999099, 0.3332384033243946, 0.2546310372269637, 0.26121982918958636, 0.4913936765842187, 0.5596884493131546, 0.5592533151444699, 0.17789621366820643, 0.19215646739178308, 0.2240574874166657, 0.17871346657121262, 0.36653700105634546, 0.20131687366844447, 0.2298077185489434, 0.2275987827416323, 0.17497507621683248, 0.17287648913031683, 0.20883613939398274, 0.2121097280321483, 0.21097040453804877, 0.21042255220783174, 0.29093269030939073, 0.1773762359865301, 0.3246730883901824, 0.2341007345941904, 0.27262284814015525, 0.28683173057171885, 0.17282260706958782, 0.19660537178848192, 0.18196693862808963, 0.21793084040284777, 0.3080218285761862, 0.17222963365411395, 0.19132261149206048]}, {\"categories\": [\"0\", \"1\", \"2\", \"3\", \"4\", \"5\", \"6\", \"7\", \"8\", \"9\", \"10\", \"11\", \"12\", \"13\", \"14\", \"15\", \"16\", \"17\", \"18\", \"19\", \"20\", \"21\", \"22\", \"23\", \"24\", \"25\", \"26\", \"27\", \"28\", \"29\", \"30\", \"31\", \"32\", \"33\", \"34\", \"35\", \"36\", \"37\", \"38\", \"39\", \"42\", \"43\", \"44\", \"45\", \"52\", \"53\"], \"mode\": \"lines\", \"name\": \"log_loss_min\", \"stepped\": true, \"type\": \"scatter\", \"data\": [0.17081181786650063, 0.17081181786650063, 0.17081181786650063, 0.17081181786650063, 0.17081181786650063, 0.17081181786650063, 0.17081181786650063, 0.17081181786650063, 0.17081181786650063, 0.17081181786650063, 0.17081181786650063, 0.17081181786650063, 0.17081181786650063, 0.17081181786650063, 0.17081181786650063, 0.17081181786650063, 0.17081181786650063, 0.17081181786650063, 0.17081181786650063, 0.17081181786650063, 0.17081181786650063, 0.17081181786650063, 0.17081181786650063, 0.17081181786650063, 0.17081181786650063, 0.17081181786650063, 0.17081181786650063, 0.17081181786650063, 0.17081181786650063, 0.17081181786650063, 0.17081181786650063, 0.17081181786650063, 0.17081181786650063, 0.17081181786650063, 0.17081181786650063, 0.17081181786650063, 0.17081181786650063, 0.17081181786650063, 0.17081181786650063, 0.17081181786650063, 0.17081181786650063, 0.17081181786650063, 0.17081181786650063, 0.17081181786650063, 0.17081181786650063, 0.17081181786650063]}], \"accuracy\": [{\"categories\": [\"0\", \"1\", \"2\", \"3\", \"4\", \"5\", \"6\", \"7\", \"8\", \"9\", \"10\", \"11\", \"12\", \"13\", \"14\", \"15\", \"16\", \"17\", \"18\", \"19\", \"20\", \"21\", \"22\", \"23\", \"24\", \"25\", \"26\", \"27\", \"28\", \"29\", \"30\", \"31\", \"32\", \"33\", \"34\", \"35\", \"36\", \"37\", \"38\", \"39\", \"42\", \"43\", \"44\", \"45\", \"52\", \"53\"], \"mode\": \"markers\", \"name\": \"accuracy\", \"stepped\": false, \"type\": \"scatter\", \"data\": [0.9159635811836117, 0.9150531107739, 0.8926858877086495, 0.809833080424886, 0.8879514415781488, 0.8996358118361154, 0.8996054628224581, 0.8890136570561458, 0.8879514415781488, 0.7363277693474962, 0.7601213960546283, 0.7318361153262518, 0.7499241274658573, 0.908133535660091, 0.8911077389984825, 0.8879514415781488, 0.7674658573596359, 0.7534446130500758, 0.74, 0.9160849772382397, 0.9094385432473444, 0.9030045523520485, 0.9138998482549316, 0.8620637329286798, 0.9085584218512899, 0.8964795144157816, 0.8996965098634295, 0.9156600910470409, 0.9167830045523522, 0.9061608497723824, 0.9064643399089531, 0.9088012139605463, 0.9089833080424885, 0.8879514415781488, 0.9134749620637328, 0.9115022761760242, 0.8891047040971168, 0.8879514415781488, 0.8879514415781488, 0.9155083459787556, 0.9115629742033384, 0.9139301972685887, 0.900060698027314, 0.8879514415781488, 0.9169954476479514, 0.9170257966616087]}, {\"categories\": [\"0\", \"1\", \"2\", \"3\", \"4\", \"5\", \"6\", \"7\", \"8\", \"9\", \"10\", \"11\", \"12\", \"13\", \"14\", \"15\", \"16\", \"17\", \"18\", \"19\", \"20\", \"21\", \"22\", \"23\", \"24\", \"25\", \"26\", \"27\", \"28\", \"29\", \"30\", \"31\", \"32\", \"33\", \"34\", \"35\", \"36\", \"37\", \"38\", \"39\", \"42\", \"43\", \"44\", \"45\", \"52\", \"53\"], \"mode\": \"lines\", \"name\": \"accuracy_max\", \"stepped\": true, \"type\": \"scatter\", \"data\": [0.9159635811836117, 0.9159635811836117, 0.9159635811836117, 0.9159635811836117, 0.9159635811836117, 0.9159635811836117, 0.9159635811836117, 0.9159635811836117, 0.9159635811836117, 0.9159635811836117, 0.9159635811836117, 0.9159635811836117, 0.9159635811836117, 0.9159635811836117, 0.9159635811836117, 0.9159635811836117, 0.9159635811836117, 0.9159635811836117, 0.9159635811836117, 0.9160849772382397, 0.9160849772382397, 0.9160849772382397, 0.9160849772382397, 0.9160849772382397, 0.9160849772382397, 0.9160849772382397, 0.9160849772382397, 0.9160849772382397, 0.9167830045523522, 0.9167830045523522, 0.9167830045523522, 0.9167830045523522, 0.9167830045523522, 0.9167830045523522, 0.9167830045523522, 0.9167830045523522, 0.9167830045523522, 0.9167830045523522, 0.9167830045523522, 0.9167830045523522, 0.9167830045523522, 0.9167830045523522, 0.9167830045523522, 0.9167830045523522, 0.9169954476479514, 0.9170257966616087]}], \"average_precision_score_macro\": [{\"categories\": [\"0\", \"1\", \"2\", \"3\", \"4\", \"5\", \"6\", \"7\", \"8\", \"9\", \"10\", \"11\", \"12\", \"13\", \"14\", \"15\", \"16\", \"17\", \"18\", \"19\", \"20\", \"21\", \"22\", \"23\", \"24\", \"25\", \"26\", \"27\", \"28\", \"29\", \"30\", \"31\", \"32\", \"33\", \"34\", \"35\", \"36\", \"37\", \"38\", \"39\", \"42\", \"43\", \"44\", \"45\", \"52\", \"53\"], \"mode\": \"markers\", \"name\": \"average_precision_score_macro\", \"stepped\": false, \"type\": \"scatter\", \"data\": [0.8297490109487308, 0.8269769211294372, 0.7548968477982831, 0.7520861802566907, 0.7288221666017993, 0.7496887187195727, 0.7405025840344608, 0.7075493201726546, 0.7369205977875193, 0.7047203905676344, 0.7227591133840496, 0.7378122258219092, 0.7155954638873755, 0.80833924628578, 0.7487832270724245, 0.6931578730485708, 0.7214095917467732, 0.7035221665689665, 0.7208033725450169, 0.8281434492279665, 0.812125607326324, 0.8017550103611122, 0.8211341551029883, 0.7878020578914152, 0.8004672011587944, 0.8032391198455011, 0.8212887838686209, 0.8254772837863523, 0.8296905287305998, 0.7948430380306467, 0.8052116281695822, 0.7904125227630162, 0.7910111705540455, 0.8129923368115243, 0.8191795335191181, 0.820713946304445, 0.8122235214463949, 0.7439779325572824, 0.7481344901192484, 0.8276616360138458, 0.7984178741029061, 0.8252861811254556, 0.8131072177938385, 0.8003848344219205, 0.8318754789460421, 0.8316733681815357]}, {\"categories\": [\"0\", \"1\", \"2\", \"3\", \"4\", \"5\", \"6\", \"7\", \"8\", \"9\", \"10\", \"11\", \"12\", \"13\", \"14\", \"15\", \"16\", \"17\", \"18\", \"19\", \"20\", \"21\", \"22\", \"23\", \"24\", \"25\", \"26\", \"27\", \"28\", \"29\", \"30\", \"31\", \"32\", \"33\", \"34\", \"35\", \"36\", \"37\", \"38\", \"39\", \"42\", \"43\", \"44\", \"45\", \"52\", \"53\"], \"mode\": \"lines\", \"name\": \"average_precision_score_macro_max\", \"stepped\": true, \"type\": \"scatter\", \"data\": [0.8297490109487308, 0.8297490109487308, 0.8297490109487308, 0.8297490109487308, 0.8297490109487308, 0.8297490109487308, 0.8297490109487308, 0.8297490109487308, 0.8297490109487308, 0.8297490109487308, 0.8297490109487308, 0.8297490109487308, 0.8297490109487308, 0.8297490109487308, 0.8297490109487308, 0.8297490109487308, 0.8297490109487308, 0.8297490109487308, 0.8297490109487308, 0.8297490109487308, 0.8297490109487308, 0.8297490109487308, 0.8297490109487308, 0.8297490109487308, 0.8297490109487308, 0.8297490109487308, 0.8297490109487308, 0.8297490109487308, 0.8297490109487308, 0.8297490109487308, 0.8297490109487308, 0.8297490109487308, 0.8297490109487308, 0.8297490109487308, 0.8297490109487308, 0.8297490109487308, 0.8297490109487308, 0.8297490109487308, 0.8297490109487308, 0.8297490109487308, 0.8297490109487308, 0.8297490109487308, 0.8297490109487308, 0.8297490109487308, 0.8318754789460421, 0.8318754789460421]}], \"precision_score_macro\": [{\"categories\": [\"0\", \"1\", \"2\", \"3\", \"4\", \"5\", \"6\", \"7\", \"8\", \"9\", \"10\", \"11\", \"12\", \"13\", \"14\", \"15\", \"16\", \"17\", \"18\", \"19\", \"20\", \"21\", \"22\", \"23\", \"24\", \"25\", \"26\", \"27\", \"28\", \"29\", \"30\", \"31\", \"32\", \"33\", \"34\", \"35\", \"36\", \"37\", \"38\", \"39\", \"42\", \"43\", \"44\", \"45\", \"52\", \"53\"], \"mode\": \"markers\", \"name\": \"precision_score_macro\", \"stepped\": false, \"type\": \"scatter\", \"data\": [0.7954496411441248, 0.7984258497287774, 0.7801443243429859, 0.6552604240882662, 0.4439757207890744, 0.7987125414168332, 0.8049353014326641, 0.5754290268453894, 0.4439757207890744, 0.6033739295873901, 0.6237349118861938, 0.6347860774062657, 0.6115386916425167, 0.8250867175805059, 0.8192724936832295, 0.4439757207890744, 0.6246936953199799, 0.6100153085062556, 0.6118528510637663, 0.8023967757550767, 0.8027146862093474, 0.8451660771032433, 0.7961283381797213, 0.7123619287706379, 0.8082491680082218, 0.8634234328703574, 0.8590854011365261, 0.7984154506286931, 0.7985536291232399, 0.8106746208096489, 0.8282424989572987, 0.7883384509720694, 0.7891772951074624, 0.4439757207890744, 0.7883567857082113, 0.818986819512746, 0.6330938031988355, 0.4439757207890744, 0.4439757207890744, 0.7948552839943438, 0.7859908449005787, 0.7991773553279973, 0.8630274116057344, 0.4439757207890744, 0.8023860018266852, 0.8025083420611934]}, {\"categories\": [\"0\", \"1\", \"2\", \"3\", \"4\", \"5\", \"6\", \"7\", \"8\", \"9\", \"10\", \"11\", \"12\", \"13\", \"14\", \"15\", \"16\", \"17\", \"18\", \"19\", \"20\", \"21\", \"22\", \"23\", \"24\", \"25\", \"26\", \"27\", \"28\", \"29\", \"30\", \"31\", \"32\", \"33\", \"34\", \"35\", \"36\", \"37\", \"38\", \"39\", \"42\", \"43\", \"44\", \"45\", \"52\", \"53\"], \"mode\": \"lines\", \"name\": \"precision_score_macro_max\", \"stepped\": true, \"type\": \"scatter\", \"data\": [0.7954496411441248, 0.7984258497287774, 0.7984258497287774, 0.7984258497287774, 0.7984258497287774, 0.7987125414168332, 0.8049353014326641, 0.8049353014326641, 0.8049353014326641, 0.8049353014326641, 0.8049353014326641, 0.8049353014326641, 0.8049353014326641, 0.8250867175805059, 0.8250867175805059, 0.8250867175805059, 0.8250867175805059, 0.8250867175805059, 0.8250867175805059, 0.8250867175805059, 0.8250867175805059, 0.8451660771032433, 0.8451660771032433, 0.8451660771032433, 0.8451660771032433, 0.8634234328703574, 0.8634234328703574, 0.8634234328703574, 0.8634234328703574, 0.8634234328703574, 0.8634234328703574, 0.8634234328703574, 0.8634234328703574, 0.8634234328703574, 0.8634234328703574, 0.8634234328703574, 0.8634234328703574, 0.8634234328703574, 0.8634234328703574, 0.8634234328703574, 0.8634234328703574, 0.8634234328703574, 0.8634234328703574, 0.8634234328703574, 0.8634234328703574, 0.8634234328703574]}], \"AUC_micro\": [{\"categories\": [\"0\", \"1\", \"2\", \"3\", \"4\", \"5\", \"6\", \"7\", \"8\", \"9\", \"10\", \"11\", \"12\", \"13\", \"14\", \"15\", \"16\", \"17\", \"18\", \"19\", \"20\", \"21\", \"22\", \"23\", \"24\", \"25\", \"26\", \"27\", \"28\", \"29\", \"30\", \"31\", \"32\", \"33\", \"34\", \"35\", \"36\", \"37\", \"38\", \"39\", \"42\", \"43\", \"44\", \"45\", \"52\", \"53\"], \"mode\": \"markers\", \"name\": \"AUC_micro\", \"stepped\": false, \"type\": \"scatter\", \"data\": [0.9814249667841788, 0.9806661447311764, 0.9696547258572215, 0.885996246669783, 0.9666550459264854, 0.969676361618399, 0.9654742252136288, 0.9536452389121329, 0.9657983471531105, 0.8360783547979305, 0.8606361779585108, 0.8597604131886957, 0.8509841968679265, 0.9767686682125166, 0.9667145926255121, 0.9621844473969619, 0.8575072084664077, 0.836998201625215, 0.8498901586760645, 0.9805796891874154, 0.9784586201100209, 0.9753570522311591, 0.9800666757237826, 0.924484018412042, 0.9766238265086429, 0.9744747847591766, 0.9767323737395832, 0.980636960861746, 0.9812534050534101, 0.9759882656620944, 0.9764805644271796, 0.9741348205424598, 0.9743164172505819, 0.9756292722914427, 0.9803963516709228, 0.9788763680658376, 0.9755768361959192, 0.9689486760876023, 0.9702177530216611, 0.9811901971304294, 0.9777710100142535, 0.9802097259608409, 0.9758493141537393, 0.9743362293077524, 0.9815767486949694, 0.9815096308611245]}, {\"categories\": [\"0\", \"1\", \"2\", \"3\", \"4\", \"5\", \"6\", \"7\", \"8\", \"9\", \"10\", \"11\", \"12\", \"13\", \"14\", \"15\", \"16\", \"17\", \"18\", \"19\", \"20\", \"21\", \"22\", \"23\", \"24\", \"25\", \"26\", \"27\", \"28\", \"29\", \"30\", \"31\", \"32\", \"33\", \"34\", \"35\", \"36\", \"37\", \"38\", \"39\", \"42\", \"43\", \"44\", \"45\", \"52\", \"53\"], \"mode\": \"lines\", \"name\": \"AUC_micro_max\", \"stepped\": true, \"type\": \"scatter\", \"data\": [0.9814249667841788, 0.9814249667841788, 0.9814249667841788, 0.9814249667841788, 0.9814249667841788, 0.9814249667841788, 0.9814249667841788, 0.9814249667841788, 0.9814249667841788, 0.9814249667841788, 0.9814249667841788, 0.9814249667841788, 0.9814249667841788, 0.9814249667841788, 0.9814249667841788, 0.9814249667841788, 0.9814249667841788, 0.9814249667841788, 0.9814249667841788, 0.9814249667841788, 0.9814249667841788, 0.9814249667841788, 0.9814249667841788, 0.9814249667841788, 0.9814249667841788, 0.9814249667841788, 0.9814249667841788, 0.9814249667841788, 0.9814249667841788, 0.9814249667841788, 0.9814249667841788, 0.9814249667841788, 0.9814249667841788, 0.9814249667841788, 0.9814249667841788, 0.9814249667841788, 0.9814249667841788, 0.9814249667841788, 0.9814249667841788, 0.9814249667841788, 0.9814249667841788, 0.9814249667841788, 0.9814249667841788, 0.9814249667841788, 0.9815767486949694, 0.9815767486949694]}], \"average_precision_score_micro\": [{\"categories\": [\"0\", \"1\", \"2\", \"3\", \"4\", \"5\", \"6\", \"7\", \"8\", \"9\", \"10\", \"11\", \"12\", \"13\", \"14\", \"15\", \"16\", \"17\", \"18\", \"19\", \"20\", \"21\", \"22\", \"23\", \"24\", \"25\", \"26\", \"27\", \"28\", \"29\", \"30\", \"31\", \"32\", \"33\", \"34\", \"35\", \"36\", \"37\", \"38\", \"39\", \"42\", \"43\", \"44\", \"45\", \"52\", \"53\"], \"mode\": \"markers\", \"name\": \"average_precision_score_micro\", \"stepped\": false, \"type\": \"scatter\", \"data\": [0.9822302736179042, 0.9814971576896097, 0.9705806595634492, 0.8718349441057441, 0.9677207275914533, 0.9703922457502813, 0.9665042897460172, 0.9525018795449934, 0.9659363703203381, 0.8108911275612201, 0.8405461291195964, 0.8715453530672976, 0.8417153669542243, 0.9772485527911666, 0.9670949466438827, 0.9611683648863005, 0.8397585024937761, 0.8120741779245961, 0.8535892968407619, 0.9813981651765961, 0.9793465310243921, 0.9763920313097415, 0.9809173201637197, 0.9005458967439655, 0.9774570378100277, 0.9754622656197863, 0.9776395699802993, 0.9814557004331326, 0.9820459530068331, 0.9770174051779126, 0.9774255841559496, 0.9713810728775162, 0.9716300701364842, 0.9766649887059735, 0.9812406770034576, 0.9794688207809201, 0.9766373376954969, 0.9700276613955383, 0.971383265440396, 0.9819948584567857, 0.9778597214424156, 0.9810035160825722, 0.9768757312899451, 0.9751435475776835, 0.9823497239287541, 0.982271644481942]}, {\"categories\": [\"0\", \"1\", \"2\", \"3\", \"4\", \"5\", \"6\", \"7\", \"8\", \"9\", \"10\", \"11\", \"12\", \"13\", \"14\", \"15\", \"16\", \"17\", \"18\", \"19\", \"20\", \"21\", \"22\", \"23\", \"24\", \"25\", \"26\", \"27\", \"28\", \"29\", \"30\", \"31\", \"32\", \"33\", \"34\", \"35\", \"36\", \"37\", \"38\", \"39\", \"42\", \"43\", \"44\", \"45\", \"52\", \"53\"], \"mode\": \"lines\", \"name\": \"average_precision_score_micro_max\", \"stepped\": true, \"type\": \"scatter\", \"data\": [0.9822302736179042, 0.9822302736179042, 0.9822302736179042, 0.9822302736179042, 0.9822302736179042, 0.9822302736179042, 0.9822302736179042, 0.9822302736179042, 0.9822302736179042, 0.9822302736179042, 0.9822302736179042, 0.9822302736179042, 0.9822302736179042, 0.9822302736179042, 0.9822302736179042, 0.9822302736179042, 0.9822302736179042, 0.9822302736179042, 0.9822302736179042, 0.9822302736179042, 0.9822302736179042, 0.9822302736179042, 0.9822302736179042, 0.9822302736179042, 0.9822302736179042, 0.9822302736179042, 0.9822302736179042, 0.9822302736179042, 0.9822302736179042, 0.9822302736179042, 0.9822302736179042, 0.9822302736179042, 0.9822302736179042, 0.9822302736179042, 0.9822302736179042, 0.9822302736179042, 0.9822302736179042, 0.9822302736179042, 0.9822302736179042, 0.9822302736179042, 0.9822302736179042, 0.9822302736179042, 0.9822302736179042, 0.9822302736179042, 0.9823497239287541, 0.9823497239287541]}], \"average_precision_score_weighted\": [{\"categories\": [\"0\", \"1\", \"2\", \"3\", \"4\", \"5\", \"6\", \"7\", \"8\", \"9\", \"10\", \"11\", \"12\", \"13\", \"14\", \"15\", \"16\", \"17\", \"18\", \"19\", \"20\", \"21\", \"22\", \"23\", \"24\", \"25\", \"26\", \"27\", \"28\", \"29\", \"30\", \"31\", \"32\", \"33\", \"34\", \"35\", \"36\", \"37\", \"38\", \"39\", \"42\", \"43\", \"44\", \"45\", \"52\", \"53\"], \"mode\": \"markers\", \"name\": \"average_precision_score_weighted\", \"stepped\": false, \"type\": \"scatter\", \"data\": [0.9570720699047136, 0.9561342867290689, 0.9355294951256224, 0.932839564700777, 0.9280898028836393, 0.9342559568219759, 0.9296836890582332, 0.9129611000761215, 0.9284295877352138, 0.911477960568068, 0.9214365929143316, 0.9293036660015217, 0.9200542581881146, 0.9501003907699778, 0.9318110684433885, 0.9160180815004111, 0.9216330672036687, 0.9076237252846852, 0.9219308959300232, 0.9562907116897458, 0.9519944572002921, 0.9490323788305488, 0.9545860164894797, 0.9459311030787448, 0.9486145942415962, 0.9491729655640068, 0.9542680523841571, 0.9557789941164131, 0.956920144217492, 0.9475025229869194, 0.9498783856152233, 0.9458920584075164, 0.9461114116240413, 0.9521586344918624, 0.9543835840111269, 0.9538473005521437, 0.951965784814154, 0.9329901951284132, 0.9346558680235839, 0.9564662227571537, 0.9480853180609674, 0.9555492190554142, 0.9520148726391054, 0.9484689850281294, 0.9575695338397484, 0.9574818692887058]}, {\"categories\": [\"0\", \"1\", \"2\", \"3\", \"4\", \"5\", \"6\", \"7\", \"8\", \"9\", \"10\", \"11\", \"12\", \"13\", \"14\", \"15\", \"16\", \"17\", \"18\", \"19\", \"20\", \"21\", \"22\", \"23\", \"24\", \"25\", \"26\", \"27\", \"28\", \"29\", \"30\", \"31\", \"32\", \"33\", \"34\", \"35\", \"36\", \"37\", \"38\", \"39\", \"42\", \"43\", \"44\", \"45\", \"52\", \"53\"], \"mode\": \"lines\", \"name\": \"average_precision_score_weighted_max\", \"stepped\": true, \"type\": \"scatter\", \"data\": [0.9570720699047136, 0.9570720699047136, 0.9570720699047136, 0.9570720699047136, 0.9570720699047136, 0.9570720699047136, 0.9570720699047136, 0.9570720699047136, 0.9570720699047136, 0.9570720699047136, 0.9570720699047136, 0.9570720699047136, 0.9570720699047136, 0.9570720699047136, 0.9570720699047136, 0.9570720699047136, 0.9570720699047136, 0.9570720699047136, 0.9570720699047136, 0.9570720699047136, 0.9570720699047136, 0.9570720699047136, 0.9570720699047136, 0.9570720699047136, 0.9570720699047136, 0.9570720699047136, 0.9570720699047136, 0.9570720699047136, 0.9570720699047136, 0.9570720699047136, 0.9570720699047136, 0.9570720699047136, 0.9570720699047136, 0.9570720699047136, 0.9570720699047136, 0.9570720699047136, 0.9570720699047136, 0.9570720699047136, 0.9570720699047136, 0.9570720699047136, 0.9570720699047136, 0.9570720699047136, 0.9570720699047136, 0.9570720699047136, 0.9575695338397484, 0.9575695338397484]}], \"AUC_weighted\": [{\"categories\": [\"0\", \"1\", \"2\", \"3\", \"4\", \"5\", \"6\", \"7\", \"8\", \"9\", \"10\", \"11\", \"12\", \"13\", \"14\", \"15\", \"16\", \"17\", \"18\", \"19\", \"20\", \"21\", \"22\", \"23\", \"24\", \"25\", \"26\", \"27\", \"28\", \"29\", \"30\", \"31\", \"32\", \"33\", \"34\", \"35\", \"36\", \"37\", \"38\", \"39\", \"42\", \"43\", \"44\", \"45\", \"52\", \"53\"], \"mode\": \"markers\", \"name\": \"AUC_weighted\", \"stepped\": false, \"type\": \"scatter\", \"data\": [0.9500416637357016, 0.9472818490486203, 0.9101949719564347, 0.8905488004636115, 0.8954152821131993, 0.9088119282751494, 0.8877290336047867, 0.8300780901826889, 0.8915526046607875, 0.8236106460969636, 0.8631671317685715, 0.8877074564953717, 0.8564063356268395, 0.9346134193248592, 0.8958608760467885, 0.8733013220898369, 0.8615595070669257, 0.8103653208123109, 0.8603954338131427, 0.9467704067529393, 0.940278608889157, 0.9348762902806305, 0.9453929767861979, 0.936075373060827, 0.9346528903176058, 0.9340215769679429, 0.9437432672863268, 0.947405465190123, 0.9492151881044434, 0.934528924043749, 0.9355617500401365, 0.9318089068236439, 0.9325275375932864, 0.940790667477337, 0.9472568778390926, 0.9417396364642532, 0.9404826059185674, 0.907178703672012, 0.9136075821251339, 0.9491750432829201, 0.9369779913287226, 0.9460798403886571, 0.9389137995944015, 0.9342686104981232, 0.9506067019924981, 0.9503352213014594]}, {\"categories\": [\"0\", \"1\", \"2\", \"3\", \"4\", \"5\", \"6\", \"7\", \"8\", \"9\", \"10\", \"11\", \"12\", \"13\", \"14\", \"15\", \"16\", \"17\", \"18\", \"19\", \"20\", \"21\", \"22\", \"23\", \"24\", \"25\", \"26\", \"27\", \"28\", \"29\", \"30\", \"31\", \"32\", \"33\", \"34\", \"35\", \"36\", \"37\", \"38\", \"39\", \"42\", \"43\", \"44\", \"45\", \"52\", \"53\"], \"mode\": \"lines\", \"name\": \"AUC_weighted_max\", \"stepped\": true, \"type\": \"scatter\", \"data\": [0.9500416637357016, 0.9500416637357016, 0.9500416637357016, 0.9500416637357016, 0.9500416637357016, 0.9500416637357016, 0.9500416637357016, 0.9500416637357016, 0.9500416637357016, 0.9500416637357016, 0.9500416637357016, 0.9500416637357016, 0.9500416637357016, 0.9500416637357016, 0.9500416637357016, 0.9500416637357016, 0.9500416637357016, 0.9500416637357016, 0.9500416637357016, 0.9500416637357016, 0.9500416637357016, 0.9500416637357016, 0.9500416637357016, 0.9500416637357016, 0.9500416637357016, 0.9500416637357016, 0.9500416637357016, 0.9500416637357016, 0.9500416637357016, 0.9500416637357016, 0.9500416637357016, 0.9500416637357016, 0.9500416637357016, 0.9500416637357016, 0.9500416637357016, 0.9500416637357016, 0.9500416637357016, 0.9500416637357016, 0.9500416637357016, 0.9500416637357016, 0.9500416637357016, 0.9500416637357016, 0.9500416637357016, 0.9500416637357016, 0.9506067019924981, 0.9506067019924981]}], \"f1_score_macro\": [{\"categories\": [\"0\", \"1\", \"2\", \"3\", \"4\", \"5\", \"6\", \"7\", \"8\", \"9\", \"10\", \"11\", \"12\", \"13\", \"14\", \"15\", \"16\", \"17\", \"18\", \"19\", \"20\", \"21\", \"22\", \"23\", \"24\", \"25\", \"26\", \"27\", \"28\", \"29\", \"30\", \"31\", \"32\", \"33\", \"34\", \"35\", \"36\", \"37\", \"38\", \"39\", \"42\", \"43\", \"44\", \"45\", \"52\", \"53\"], \"mode\": \"markers\", \"name\": \"f1_score_macro\", \"stepped\": false, \"type\": \"scatter\", \"data\": [0.7734368156947053, 0.7611420523875042, 0.5337065055165054, 0.6794887290196894, 0.47031785207137505, 0.6213499289795473, 0.6158243191090945, 0.48032002409258095, 0.47031785207137505, 0.603434091158974, 0.6315999571703272, 0.6283279442842392, 0.6163783043458027, 0.6783615920581876, 0.5090076505001522, 0.47031785207137505, 0.6345430348486889, 0.6161619743373329, 0.6126063963524567, 0.7637017839046589, 0.709378756171325, 0.6237567856817072, 0.7562133628981682, 0.752678374716394, 0.6970589103096275, 0.5588854653216048, 0.588912708016012, 0.7665896891300641, 0.774660929665013, 0.6740882668538057, 0.6623689780041584, 0.7243835429104926, 0.7250024487917466, 0.47031785207137505, 0.7665530087973548, 0.7101956779115488, 0.48220141294840024, 0.47031785207137505, 0.47031785207137505, 0.7710923085939687, 0.7554248948114533, 0.7520821013354724, 0.5910742128031783, 0.47031785207137505, 0.7700430681770208, 0.7705903449890698]}, {\"categories\": [\"0\", \"1\", \"2\", \"3\", \"4\", \"5\", \"6\", \"7\", \"8\", \"9\", \"10\", \"11\", \"12\", \"13\", \"14\", \"15\", \"16\", \"17\", \"18\", \"19\", \"20\", \"21\", \"22\", \"23\", \"24\", \"25\", \"26\", \"27\", \"28\", \"29\", \"30\", \"31\", \"32\", \"33\", \"34\", \"35\", \"36\", \"37\", \"38\", \"39\", \"42\", \"43\", \"44\", \"45\", \"52\", \"53\"], \"mode\": \"lines\", \"name\": \"f1_score_macro_max\", \"stepped\": true, \"type\": \"scatter\", \"data\": [0.7734368156947053, 0.7734368156947053, 0.7734368156947053, 0.7734368156947053, 0.7734368156947053, 0.7734368156947053, 0.7734368156947053, 0.7734368156947053, 0.7734368156947053, 0.7734368156947053, 0.7734368156947053, 0.7734368156947053, 0.7734368156947053, 0.7734368156947053, 0.7734368156947053, 0.7734368156947053, 0.7734368156947053, 0.7734368156947053, 0.7734368156947053, 0.7734368156947053, 0.7734368156947053, 0.7734368156947053, 0.7734368156947053, 0.7734368156947053, 0.7734368156947053, 0.7734368156947053, 0.7734368156947053, 0.7734368156947053, 0.774660929665013, 0.774660929665013, 0.774660929665013, 0.774660929665013, 0.774660929665013, 0.774660929665013, 0.774660929665013, 0.774660929665013, 0.774660929665013, 0.774660929665013, 0.774660929665013, 0.774660929665013, 0.774660929665013, 0.774660929665013, 0.774660929665013, 0.774660929665013, 0.774660929665013, 0.774660929665013]}], \"precision_score_weighted\": [{\"categories\": [\"0\", \"1\", \"2\", \"3\", \"4\", \"5\", \"6\", \"7\", \"8\", \"9\", \"10\", \"11\", \"12\", \"13\", \"14\", \"15\", \"16\", \"17\", \"18\", \"19\", \"20\", \"21\", \"22\", \"23\", \"24\", \"25\", \"26\", \"27\", \"28\", \"29\", \"30\", \"31\", \"32\", \"33\", \"34\", \"35\", \"36\", \"37\", \"38\", \"39\", \"42\", \"43\", \"44\", \"45\", \"52\", \"53\"], \"mode\": \"markers\", \"name\": \"precision_score_weighted\", \"stepped\": false, \"type\": \"scatter\", \"data\": [0.9111169501529897, 0.9078124767412726, 0.8696135006134389, 0.896284413350865, 0.7885082331485835, 0.8824844045162912, 0.8831819879604101, 0.8199356897485648, 0.7885082331485835, 0.8739801845237526, 0.8852450670985288, 0.905671964009953, 0.8776976238408543, 0.8957643805532216, 0.876032898725786, 0.7885082331485835, 0.8827034895250879, 0.875323527902921, 0.8806713930999038, 0.9089361718422161, 0.8967042552974369, 0.8927364224312715, 0.9061733588297258, 0.9224808037284126, 0.8953852887143764, 0.8901489831565795, 0.8920805400701631, 0.9093094516012341, 0.9117213617728046, 0.8922318208655678, 0.8941360998636624, 0.8972464950326081, 0.897503919529792, 0.7885082331485835, 0.9083964045366486, 0.899906365275753, 0.8311856964389959, 0.7885082331485835, 0.7885082331485835, 0.91029456374306, 0.9050121665405586, 0.9054524420149065, 0.893236835473628, 0.7885082331485835, 0.910755261657657, 0.9109043485064732]}, {\"categories\": [\"0\", \"1\", \"2\", \"3\", \"4\", \"5\", \"6\", \"7\", \"8\", \"9\", \"10\", \"11\", \"12\", \"13\", \"14\", \"15\", \"16\", \"17\", \"18\", \"19\", \"20\", \"21\", \"22\", \"23\", \"24\", \"25\", \"26\", \"27\", \"28\", \"29\", \"30\", \"31\", \"32\", \"33\", \"34\", \"35\", \"36\", \"37\", \"38\", \"39\", \"42\", \"43\", \"44\", \"45\", \"52\", \"53\"], \"mode\": \"lines\", \"name\": \"precision_score_weighted_max\", \"stepped\": true, \"type\": \"scatter\", \"data\": [0.9111169501529897, 0.9111169501529897, 0.9111169501529897, 0.9111169501529897, 0.9111169501529897, 0.9111169501529897, 0.9111169501529897, 0.9111169501529897, 0.9111169501529897, 0.9111169501529897, 0.9111169501529897, 0.9111169501529897, 0.9111169501529897, 0.9111169501529897, 0.9111169501529897, 0.9111169501529897, 0.9111169501529897, 0.9111169501529897, 0.9111169501529897, 0.9111169501529897, 0.9111169501529897, 0.9111169501529897, 0.9111169501529897, 0.9224808037284126, 0.9224808037284126, 0.9224808037284126, 0.9224808037284126, 0.9224808037284126, 0.9224808037284126, 0.9224808037284126, 0.9224808037284126, 0.9224808037284126, 0.9224808037284126, 0.9224808037284126, 0.9224808037284126, 0.9224808037284126, 0.9224808037284126, 0.9224808037284126, 0.9224808037284126, 0.9224808037284126, 0.9224808037284126, 0.9224808037284126, 0.9224808037284126, 0.9224808037284126, 0.9224808037284126, 0.9224808037284126]}], \"balanced_accuracy\": [{\"categories\": [\"0\", \"1\", \"2\", \"3\", \"4\", \"5\", \"6\", \"7\", \"8\", \"9\", \"10\", \"11\", \"12\", \"13\", \"14\", \"15\", \"16\", \"17\", \"18\", \"19\", \"20\", \"21\", \"22\", \"23\", \"24\", \"25\", \"26\", \"27\", \"28\", \"29\", \"30\", \"31\", \"32\", \"33\", \"34\", \"35\", \"36\", \"37\", \"38\", \"39\", \"42\", \"43\", \"44\", \"45\", \"52\", \"53\"], \"mode\": \"markers\", \"name\": \"balanced_accuracy\", \"stepped\": false, \"type\": \"scatter\", \"data\": [0.7557686741821551, 0.7348107141351473, 0.5337987032300873, 0.791399461895298, 0.5, 0.5893549807398026, 0.584952412298831, 0.5050567857043697, 0.5, 0.72201889504002, 0.7564646753412887, 0.8068706965067717, 0.7341055315471807, 0.6342760210086762, 0.5196722993033915, 0.5, 0.7485337087409201, 0.727409420198279, 0.7413177819026894, 0.7365895806832728, 0.6682967596880498, 0.5894419587426633, 0.7287706995493897, 0.8704803773905206, 0.6541195988108983, 0.5471938012223336, 0.5657527678613479, 0.7430876655782106, 0.7557369480788804, 0.6319901777994901, 0.6202581023993431, 0.6890866702744447, 0.689618271886091, 0.5, 0.7491193713319941, 0.6658422521112346, 0.5059501186761316, 0.5, 0.5, 0.7523216991795234, 0.7336950369669444, 0.7216017385073403, 0.5670187990491892, 0.5, 0.7461382383178358, 0.7470197000551784]}, {\"categories\": [\"0\", \"1\", \"2\", \"3\", \"4\", \"5\", \"6\", \"7\", \"8\", \"9\", \"10\", \"11\", \"12\", \"13\", \"14\", \"15\", \"16\", \"17\", \"18\", \"19\", \"20\", \"21\", \"22\", \"23\", \"24\", \"25\", \"26\", \"27\", \"28\", \"29\", \"30\", \"31\", \"32\", \"33\", \"34\", \"35\", \"36\", \"37\", \"38\", \"39\", \"42\", \"43\", \"44\", \"45\", \"52\", \"53\"], \"mode\": \"lines\", \"name\": \"balanced_accuracy_max\", \"stepped\": true, \"type\": \"scatter\", \"data\": [0.7557686741821551, 0.7557686741821551, 0.7557686741821551, 0.791399461895298, 0.791399461895298, 0.791399461895298, 0.791399461895298, 0.791399461895298, 0.791399461895298, 0.791399461895298, 0.791399461895298, 0.8068706965067717, 0.8068706965067717, 0.8068706965067717, 0.8068706965067717, 0.8068706965067717, 0.8068706965067717, 0.8068706965067717, 0.8068706965067717, 0.8068706965067717, 0.8068706965067717, 0.8068706965067717, 0.8068706965067717, 0.8704803773905206, 0.8704803773905206, 0.8704803773905206, 0.8704803773905206, 0.8704803773905206, 0.8704803773905206, 0.8704803773905206, 0.8704803773905206, 0.8704803773905206, 0.8704803773905206, 0.8704803773905206, 0.8704803773905206, 0.8704803773905206, 0.8704803773905206, 0.8704803773905206, 0.8704803773905206, 0.8704803773905206, 0.8704803773905206, 0.8704803773905206, 0.8704803773905206, 0.8704803773905206, 0.8704803773905206, 0.8704803773905206]}], \"f1_score_weighted\": [{\"categories\": [\"0\", \"1\", \"2\", \"3\", \"4\", \"5\", \"6\", \"7\", \"8\", \"9\", \"10\", \"11\", \"12\", \"13\", \"14\", \"15\", \"16\", \"17\", \"18\", \"19\", \"20\", \"21\", \"22\", \"23\", \"24\", \"25\", \"26\", \"27\", \"28\", \"29\", \"30\", \"31\", \"32\", \"33\", \"34\", \"35\", \"36\", \"37\", \"38\", \"39\", \"42\", \"43\", \"44\", \"45\", \"52\", \"53\"], \"mode\": \"markers\", \"name\": \"f1_score_weighted\", \"stepped\": false, \"type\": \"scatter\", \"data\": [0.9129733510688102, 0.9100285824455583, 0.8508869948930965, 0.838218413795102, 0.8352671790135473, 0.8732643549222188, 0.8720681604540829, 0.8379799596214277, 0.8352671790135473, 0.7816352303768371, 0.8003947250861765, 0.7801193121260244, 0.7920412998948411, 0.88936380268025, 0.8450392116925312, 0.8352671790135473, 0.8053916933103512, 0.7943490801554942, 0.7849331936309947, 0.9110274989499759, 0.896571575476717, 0.8752731258736504, 0.9084430097257471, 0.8804169571224515, 0.8935100640230829, 0.8582378106583544, 0.8662406559014393, 0.9114140551412382, 0.91360992571269, 0.8875298686145806, 0.88522219850711, 0.8994035392321363, 0.8996058199667752, 0.8352671790135473, 0.910364115794746, 0.897683827267816, 0.8382824174434227, 0.8352671790135473, 0.8352671790135473, 0.9122500559782132, 0.9071404005472319, 0.907568744393869, 0.8668765425537419, 0.8352671790135473, 0.9127889394001244, 0.9128896976354876]}, {\"categories\": [\"0\", \"1\", \"2\", \"3\", \"4\", \"5\", \"6\", \"7\", \"8\", \"9\", \"10\", \"11\", \"12\", \"13\", \"14\", \"15\", \"16\", \"17\", \"18\", \"19\", \"20\", \"21\", \"22\", \"23\", \"24\", \"25\", \"26\", \"27\", \"28\", \"29\", \"30\", \"31\", \"32\", \"33\", \"34\", \"35\", \"36\", \"37\", \"38\", \"39\", \"42\", \"43\", \"44\", \"45\", \"52\", \"53\"], \"mode\": \"lines\", \"name\": \"f1_score_weighted_max\", \"stepped\": true, \"type\": \"scatter\", \"data\": [0.9129733510688102, 0.9129733510688102, 0.9129733510688102, 0.9129733510688102, 0.9129733510688102, 0.9129733510688102, 0.9129733510688102, 0.9129733510688102, 0.9129733510688102, 0.9129733510688102, 0.9129733510688102, 0.9129733510688102, 0.9129733510688102, 0.9129733510688102, 0.9129733510688102, 0.9129733510688102, 0.9129733510688102, 0.9129733510688102, 0.9129733510688102, 0.9129733510688102, 0.9129733510688102, 0.9129733510688102, 0.9129733510688102, 0.9129733510688102, 0.9129733510688102, 0.9129733510688102, 0.9129733510688102, 0.9129733510688102, 0.91360992571269, 0.91360992571269, 0.91360992571269, 0.91360992571269, 0.91360992571269, 0.91360992571269, 0.91360992571269, 0.91360992571269, 0.91360992571269, 0.91360992571269, 0.91360992571269, 0.91360992571269, 0.91360992571269, 0.91360992571269, 0.91360992571269, 0.91360992571269, 0.91360992571269, 0.91360992571269]}], \"f1_score_micro\": [{\"categories\": [\"0\", \"1\", \"2\", \"3\", \"4\", \"5\", \"6\", \"7\", \"8\", \"9\", \"10\", \"11\", \"12\", \"13\", \"14\", \"15\", \"16\", \"17\", \"18\", \"19\", \"20\", \"21\", \"22\", \"23\", \"24\", \"25\", \"26\", \"27\", \"28\", \"29\", \"30\", \"31\", \"32\", \"33\", \"34\", \"35\", \"36\", \"37\", \"38\", \"39\", \"42\", \"43\", \"44\", \"45\", \"52\", \"53\"], \"mode\": \"markers\", \"name\": \"f1_score_micro\", \"stepped\": false, \"type\": \"scatter\", \"data\": [0.9159635811836117, 0.9150531107739, 0.8926858877086495, 0.809833080424886, 0.8879514415781488, 0.8996358118361154, 0.8996054628224581, 0.8890136570561458, 0.8879514415781488, 0.7363277693474962, 0.7601213960546283, 0.7318361153262518, 0.7499241274658572, 0.908133535660091, 0.8911077389984825, 0.8879514415781488, 0.7674658573596359, 0.7534446130500758, 0.74, 0.9160849772382397, 0.9094385432473444, 0.9030045523520485, 0.9138998482549316, 0.8620637329286798, 0.9085584218512899, 0.8964795144157816, 0.8996965098634295, 0.9156600910470409, 0.9167830045523522, 0.9061608497723824, 0.9064643399089531, 0.9088012139605463, 0.9089833080424885, 0.8879514415781488, 0.9134749620637328, 0.9115022761760242, 0.8891047040971168, 0.8879514415781488, 0.8879514415781488, 0.9155083459787559, 0.9115629742033384, 0.9139301972685887, 0.900060698027314, 0.8879514415781488, 0.9169954476479514, 0.9170257966616087]}, {\"categories\": [\"0\", \"1\", \"2\", \"3\", \"4\", \"5\", \"6\", \"7\", \"8\", \"9\", \"10\", \"11\", \"12\", \"13\", \"14\", \"15\", \"16\", \"17\", \"18\", \"19\", \"20\", \"21\", \"22\", \"23\", \"24\", \"25\", \"26\", \"27\", \"28\", \"29\", \"30\", \"31\", \"32\", \"33\", \"34\", \"35\", \"36\", \"37\", \"38\", \"39\", \"42\", \"43\", \"44\", \"45\", \"52\", \"53\"], \"mode\": \"lines\", \"name\": \"f1_score_micro_max\", \"stepped\": true, \"type\": \"scatter\", \"data\": [0.9159635811836117, 0.9159635811836117, 0.9159635811836117, 0.9159635811836117, 0.9159635811836117, 0.9159635811836117, 0.9159635811836117, 0.9159635811836117, 0.9159635811836117, 0.9159635811836117, 0.9159635811836117, 0.9159635811836117, 0.9159635811836117, 0.9159635811836117, 0.9159635811836117, 0.9159635811836117, 0.9159635811836117, 0.9159635811836117, 0.9159635811836117, 0.9160849772382397, 0.9160849772382397, 0.9160849772382397, 0.9160849772382397, 0.9160849772382397, 0.9160849772382397, 0.9160849772382397, 0.9160849772382397, 0.9160849772382397, 0.9167830045523522, 0.9167830045523522, 0.9167830045523522, 0.9167830045523522, 0.9167830045523522, 0.9167830045523522, 0.9167830045523522, 0.9167830045523522, 0.9167830045523522, 0.9167830045523522, 0.9167830045523522, 0.9167830045523522, 0.9167830045523522, 0.9167830045523522, 0.9167830045523522, 0.9167830045523522, 0.9169954476479514, 0.9170257966616087]}], \"recall_score_macro\": [{\"categories\": [\"0\", \"1\", \"2\", \"3\", \"4\", \"5\", \"6\", \"7\", \"8\", \"9\", \"10\", \"11\", \"12\", \"13\", \"14\", \"15\", \"16\", \"17\", \"18\", \"19\", \"20\", \"21\", \"22\", \"23\", \"24\", \"25\", \"26\", \"27\", \"28\", \"29\", \"30\", \"31\", \"32\", \"33\", \"34\", \"35\", \"36\", \"37\", \"38\", \"39\", \"42\", \"43\", \"44\", \"45\", \"52\", \"53\"], \"mode\": \"markers\", \"name\": \"recall_score_macro\", \"stepped\": false, \"type\": \"scatter\", \"data\": [0.7557686741821551, 0.7348107141351473, 0.5337987032300873, 0.791399461895298, 0.5, 0.5893549807398026, 0.584952412298831, 0.5050567857043697, 0.5, 0.72201889504002, 0.7564646753412887, 0.8068706965067717, 0.7341055315471807, 0.6342760210086762, 0.5196722993033915, 0.5, 0.7485337087409201, 0.727409420198279, 0.7413177819026894, 0.7365895806832728, 0.6682967596880498, 0.5894419587426633, 0.7287706995493897, 0.8704803773905206, 0.6541195988108983, 0.5471938012223336, 0.5657527678613479, 0.7430876655782106, 0.7557369480788804, 0.6319901777994901, 0.6202581023993431, 0.6890866702744447, 0.689618271886091, 0.5, 0.7491193713319941, 0.6658422521112346, 0.5059501186761316, 0.5, 0.5, 0.7523216991795234, 0.7336950369669444, 0.7216017385073403, 0.5670187990491892, 0.5, 0.7461382383178358, 0.7470197000551784]}, {\"categories\": [\"0\", \"1\", \"2\", \"3\", \"4\", \"5\", \"6\", \"7\", \"8\", \"9\", \"10\", \"11\", \"12\", \"13\", \"14\", \"15\", \"16\", \"17\", \"18\", \"19\", \"20\", \"21\", \"22\", \"23\", \"24\", \"25\", \"26\", \"27\", \"28\", \"29\", \"30\", \"31\", \"32\", \"33\", \"34\", \"35\", \"36\", \"37\", \"38\", \"39\", \"42\", \"43\", \"44\", \"45\", \"52\", \"53\"], \"mode\": \"lines\", \"name\": \"recall_score_macro_max\", \"stepped\": true, \"type\": \"scatter\", \"data\": [0.7557686741821551, 0.7557686741821551, 0.7557686741821551, 0.791399461895298, 0.791399461895298, 0.791399461895298, 0.791399461895298, 0.791399461895298, 0.791399461895298, 0.791399461895298, 0.791399461895298, 0.8068706965067717, 0.8068706965067717, 0.8068706965067717, 0.8068706965067717, 0.8068706965067717, 0.8068706965067717, 0.8068706965067717, 0.8068706965067717, 0.8068706965067717, 0.8068706965067717, 0.8068706965067717, 0.8068706965067717, 0.8704803773905206, 0.8704803773905206, 0.8704803773905206, 0.8704803773905206, 0.8704803773905206, 0.8704803773905206, 0.8704803773905206, 0.8704803773905206, 0.8704803773905206, 0.8704803773905206, 0.8704803773905206, 0.8704803773905206, 0.8704803773905206, 0.8704803773905206, 0.8704803773905206, 0.8704803773905206, 0.8704803773905206, 0.8704803773905206, 0.8704803773905206, 0.8704803773905206, 0.8704803773905206, 0.8704803773905206, 0.8704803773905206]}], \"recall_score_micro\": [{\"categories\": [\"0\", \"1\", \"2\", \"3\", \"4\", \"5\", \"6\", \"7\", \"8\", \"9\", \"10\", \"11\", \"12\", \"13\", \"14\", \"15\", \"16\", \"17\", \"18\", \"19\", \"20\", \"21\", \"22\", \"23\", \"24\", \"25\", \"26\", \"27\", \"28\", \"29\", \"30\", \"31\", \"32\", \"33\", \"34\", \"35\", \"36\", \"37\", \"38\", \"39\", \"42\", \"43\", \"44\", \"45\", \"52\", \"53\"], \"mode\": \"markers\", \"name\": \"recall_score_micro\", \"stepped\": false, \"type\": \"scatter\", \"data\": [0.9159635811836117, 0.9150531107739, 0.8926858877086495, 0.809833080424886, 0.8879514415781488, 0.8996358118361154, 0.8996054628224581, 0.8890136570561458, 0.8879514415781488, 0.7363277693474962, 0.7601213960546283, 0.7318361153262518, 0.7499241274658573, 0.908133535660091, 0.8911077389984825, 0.8879514415781488, 0.7674658573596359, 0.7534446130500758, 0.74, 0.9160849772382397, 0.9094385432473444, 0.9030045523520485, 0.9138998482549316, 0.8620637329286798, 0.9085584218512899, 0.8964795144157816, 0.8996965098634295, 0.9156600910470409, 0.9167830045523522, 0.9061608497723824, 0.9064643399089531, 0.9088012139605463, 0.9089833080424885, 0.8879514415781488, 0.9134749620637328, 0.9115022761760242, 0.8891047040971168, 0.8879514415781488, 0.8879514415781488, 0.9155083459787556, 0.9115629742033384, 0.9139301972685887, 0.900060698027314, 0.8879514415781488, 0.9169954476479514, 0.9170257966616087]}, {\"categories\": [\"0\", \"1\", \"2\", \"3\", \"4\", \"5\", \"6\", \"7\", \"8\", \"9\", \"10\", \"11\", \"12\", \"13\", \"14\", \"15\", \"16\", \"17\", \"18\", \"19\", \"20\", \"21\", \"22\", \"23\", \"24\", \"25\", \"26\", \"27\", \"28\", \"29\", \"30\", \"31\", \"32\", \"33\", \"34\", \"35\", \"36\", \"37\", \"38\", \"39\", \"42\", \"43\", \"44\", \"45\", \"52\", \"53\"], \"mode\": \"lines\", \"name\": \"recall_score_micro_max\", \"stepped\": true, \"type\": \"scatter\", \"data\": [0.9159635811836117, 0.9159635811836117, 0.9159635811836117, 0.9159635811836117, 0.9159635811836117, 0.9159635811836117, 0.9159635811836117, 0.9159635811836117, 0.9159635811836117, 0.9159635811836117, 0.9159635811836117, 0.9159635811836117, 0.9159635811836117, 0.9159635811836117, 0.9159635811836117, 0.9159635811836117, 0.9159635811836117, 0.9159635811836117, 0.9159635811836117, 0.9160849772382397, 0.9160849772382397, 0.9160849772382397, 0.9160849772382397, 0.9160849772382397, 0.9160849772382397, 0.9160849772382397, 0.9160849772382397, 0.9160849772382397, 0.9167830045523522, 0.9167830045523522, 0.9167830045523522, 0.9167830045523522, 0.9167830045523522, 0.9167830045523522, 0.9167830045523522, 0.9167830045523522, 0.9167830045523522, 0.9167830045523522, 0.9167830045523522, 0.9167830045523522, 0.9167830045523522, 0.9167830045523522, 0.9167830045523522, 0.9167830045523522, 0.9169954476479514, 0.9170257966616087]}], \"norm_macro_recall\": [{\"categories\": [\"0\", \"1\", \"2\", \"3\", \"4\", \"5\", \"6\", \"7\", \"8\", \"9\", \"10\", \"11\", \"12\", \"13\", \"14\", \"15\", \"16\", \"17\", \"18\", \"19\", \"20\", \"21\", \"22\", \"23\", \"24\", \"25\", \"26\", \"27\", \"28\", \"29\", \"30\", \"31\", \"32\", \"33\", \"34\", \"35\", \"36\", \"37\", \"38\", \"39\", \"42\", \"43\", \"44\", \"45\", \"52\", \"53\"], \"mode\": \"markers\", \"name\": \"norm_macro_recall\", \"stepped\": false, \"type\": \"scatter\", \"data\": [0.5115373483643102, 0.46962142827029457, 0.06759740646017479, 0.5827989237905961, 0.0, 0.17870996147960522, 0.16990482459766196, 0.010113571408739608, 0.0, 0.44403779008003996, 0.5129293506825773, 0.6137413930135434, 0.4682110630943616, 0.26855204201735244, 0.03934459860678319, 0.0, 0.49706741748183986, 0.4548188403965582, 0.48263556380537864, 0.47317916136654564, 0.3365935193760997, 0.17888391748532648, 0.45754139909877944, 0.7409607547810414, 0.3082391976217966, 0.09438760244466715, 0.13150553572269572, 0.4861753311564213, 0.5114738961577608, 0.26398035559898003, 0.2405162047986861, 0.3781733405488897, 0.37923654377218224, 0.0, 0.49823874266398854, 0.3316845042224691, 0.011934021136046913, 0.0, 0.0, 0.5046433983590466, 0.4673900739338886, 0.44320347701468066, 0.13403759809837829, 0.0, 0.49227647663567187, 0.49403940011035685]}, {\"categories\": [\"0\", \"1\", \"2\", \"3\", \"4\", \"5\", \"6\", \"7\", \"8\", \"9\", \"10\", \"11\", \"12\", \"13\", \"14\", \"15\", \"16\", \"17\", \"18\", \"19\", \"20\", \"21\", \"22\", \"23\", \"24\", \"25\", \"26\", \"27\", \"28\", \"29\", \"30\", \"31\", \"32\", \"33\", \"34\", \"35\", \"36\", \"37\", \"38\", \"39\", \"42\", \"43\", \"44\", \"45\", \"52\", \"53\"], \"mode\": \"lines\", \"name\": \"norm_macro_recall_max\", \"stepped\": true, \"type\": \"scatter\", \"data\": [0.5115373483643102, 0.5115373483643102, 0.5115373483643102, 0.5827989237905961, 0.5827989237905961, 0.5827989237905961, 0.5827989237905961, 0.5827989237905961, 0.5827989237905961, 0.5827989237905961, 0.5827989237905961, 0.6137413930135434, 0.6137413930135434, 0.6137413930135434, 0.6137413930135434, 0.6137413930135434, 0.6137413930135434, 0.6137413930135434, 0.6137413930135434, 0.6137413930135434, 0.6137413930135434, 0.6137413930135434, 0.6137413930135434, 0.7409607547810414, 0.7409607547810414, 0.7409607547810414, 0.7409607547810414, 0.7409607547810414, 0.7409607547810414, 0.7409607547810414, 0.7409607547810414, 0.7409607547810414, 0.7409607547810414, 0.7409607547810414, 0.7409607547810414, 0.7409607547810414, 0.7409607547810414, 0.7409607547810414, 0.7409607547810414, 0.7409607547810414, 0.7409607547810414, 0.7409607547810414, 0.7409607547810414, 0.7409607547810414, 0.7409607547810414, 0.7409607547810414]}], \"AUC_macro\": [{\"categories\": [\"0\", \"1\", \"2\", \"3\", \"4\", \"5\", \"6\", \"7\", \"8\", \"9\", \"10\", \"11\", \"12\", \"13\", \"14\", \"15\", \"16\", \"17\", \"18\", \"19\", \"20\", \"21\", \"22\", \"23\", \"24\", \"25\", \"26\", \"27\", \"28\", \"29\", \"30\", \"31\", \"32\", \"33\", \"34\", \"35\", \"36\", \"37\", \"38\", \"39\", \"42\", \"43\", \"44\", \"45\", \"52\", \"53\"], \"mode\": \"markers\", \"name\": \"AUC_macro\", \"stepped\": false, \"type\": \"scatter\", \"data\": [0.9500416637357016, 0.9472818669607778, 0.9101949719564347, 0.8905488004636115, 0.8954152821131993, 0.9088119282751494, 0.8877290336047867, 0.8300780901826886, 0.8915526046607875, 0.8236106460969636, 0.8631671317685715, 0.8877074564953716, 0.8564063356268395, 0.9346134026333619, 0.8958608760467885, 0.8733013220898369, 0.8615595070669257, 0.8103653208123109, 0.8603954338131427, 0.9467704067529393, 0.940278608889157, 0.9348762902806304, 0.9453929767861979, 0.936075373060827, 0.9346528903176058, 0.9340215769679429, 0.9437432672863268, 0.947405465190123, 0.9492151881044434, 0.9345289240437488, 0.9355617500401365, 0.9318089068236439, 0.9325275375932864, 0.940790667477337, 0.9472568778390926, 0.941739636464253, 0.9404826059185674, 0.907178703672012, 0.9136075821251339, 0.9491750432829201, 0.9369779913287226, 0.9460798403886571, 0.9389137995944015, 0.9342686104981232, 0.9506067019924981, 0.9503352213014598]}, {\"categories\": [\"0\", \"1\", \"2\", \"3\", \"4\", \"5\", \"6\", \"7\", \"8\", \"9\", \"10\", \"11\", \"12\", \"13\", \"14\", \"15\", \"16\", \"17\", \"18\", \"19\", \"20\", \"21\", \"22\", \"23\", \"24\", \"25\", \"26\", \"27\", \"28\", \"29\", \"30\", \"31\", \"32\", \"33\", \"34\", \"35\", \"36\", \"37\", \"38\", \"39\", \"42\", \"43\", \"44\", \"45\", \"52\", \"53\"], \"mode\": \"lines\", \"name\": \"AUC_macro_max\", \"stepped\": true, \"type\": \"scatter\", \"data\": [0.9500416637357016, 0.9500416637357016, 0.9500416637357016, 0.9500416637357016, 0.9500416637357016, 0.9500416637357016, 0.9500416637357016, 0.9500416637357016, 0.9500416637357016, 0.9500416637357016, 0.9500416637357016, 0.9500416637357016, 0.9500416637357016, 0.9500416637357016, 0.9500416637357016, 0.9500416637357016, 0.9500416637357016, 0.9500416637357016, 0.9500416637357016, 0.9500416637357016, 0.9500416637357016, 0.9500416637357016, 0.9500416637357016, 0.9500416637357016, 0.9500416637357016, 0.9500416637357016, 0.9500416637357016, 0.9500416637357016, 0.9500416637357016, 0.9500416637357016, 0.9500416637357016, 0.9500416637357016, 0.9500416637357016, 0.9500416637357016, 0.9500416637357016, 0.9500416637357016, 0.9500416637357016, 0.9500416637357016, 0.9500416637357016, 0.9500416637357016, 0.9500416637357016, 0.9500416637357016, 0.9500416637357016, 0.9500416637357016, 0.9506067019924981, 0.9506067019924981]}]}, \"metricName\": null, \"primaryMetricName\": \"AUC_weighted\", \"showLegend\": false}, \"run_metrics\": [{\"name\": \"experiment_status\", \"run_id\": \"AutoML_b82a165d-32d7-40dc-8988-8fdd2e017f33\", \"categories\": [0, 1, 2, 3, 4, 5, 6, 7, 8, 9, 10, 11, 12, 13, 14], \"series\": [{\"data\": [\"DatasetEvaluation\", \"FeaturesGeneration\", \"DatasetFeaturization\", \"DatasetFeaturizationCompleted\", \"DatasetBalancing\", \"DatasetCrossValidationSplit\", \"ModelSelection\", \"BestRunExplainModel\", \"ModelExplanationDataSetSetup\", \"PickSurrogateModel\", \"EngineeredFeatureExplanations\", \"EngineeredFeatureExplanations\", \"RawFeaturesExplanations\", \"RawFeaturesExplanations\", \"BestRunExplainModel\"]}]}, {\"name\": \"experiment_status_description\", \"run_id\": \"AutoML_b82a165d-32d7-40dc-8988-8fdd2e017f33\", \"categories\": [0, 1, 2, 3, 4, 5, 6, 7, 8, 9, 10, 11, 12, 13, 14], \"series\": [{\"data\": [\"Gathering dataset statistics.\", \"Generating features for the dataset.\", \"Beginning to fit featurizers and featurize the dataset.\", \"Completed fit featurizers and featurizing the dataset.\", \"Performing class balancing sweeping\", \"Generating individually featurized CV splits.\", \"Beginning model selection.\", \"Best run model explanations started\", \"Model explanations data setup completed\", \"Choosing LightGBM as the surrogate model for explanations\", \"Computation of engineered features started\", \"Computation of engineered features completed\", \"Computation of raw features started\", \"Computation of raw features completed\", \"Best run model explanations completed\"]}]}, {\"name\": \"f1_score_macro\", \"run_id\": \"AutoML_b82a165d-32d7-40dc-8988-8fdd2e017f33\", \"categories\": [0], \"series\": [{\"data\": [0.7700430681770208]}]}, {\"name\": \"AUC_weighted\", \"run_id\": \"AutoML_b82a165d-32d7-40dc-8988-8fdd2e017f33\", \"categories\": [0], \"series\": [{\"data\": [0.9506067019924981]}]}, {\"name\": \"matthews_correlation\", \"run_id\": \"AutoML_b82a165d-32d7-40dc-8988-8fdd2e017f33\", \"categories\": [0], \"series\": [{\"data\": [0.5454941258878294]}]}, {\"name\": \"balanced_accuracy\", \"run_id\": \"AutoML_b82a165d-32d7-40dc-8988-8fdd2e017f33\", \"categories\": [0], \"series\": [{\"data\": [0.7461382383178358]}]}, {\"name\": \"precision_score_macro\", \"run_id\": \"AutoML_b82a165d-32d7-40dc-8988-8fdd2e017f33\", \"categories\": [0], \"series\": [{\"data\": [0.8023860018266852]}]}, {\"name\": \"average_precision_score_macro\", \"run_id\": \"AutoML_b82a165d-32d7-40dc-8988-8fdd2e017f33\", \"categories\": [0], \"series\": [{\"data\": [0.8318754789460421]}]}, {\"name\": \"precision_score_micro\", \"run_id\": \"AutoML_b82a165d-32d7-40dc-8988-8fdd2e017f33\", \"categories\": [0], \"series\": [{\"data\": [0.9169954476479514]}]}, {\"name\": \"weighted_accuracy\", \"run_id\": \"AutoML_b82a165d-32d7-40dc-8988-8fdd2e017f33\", \"categories\": [0], \"series\": [{\"data\": [0.9593522805571422]}]}, {\"name\": \"average_precision_score_micro\", \"run_id\": \"AutoML_b82a165d-32d7-40dc-8988-8fdd2e017f33\", \"categories\": [0], \"series\": [{\"data\": [0.9823497239287541]}]}, {\"name\": \"norm_macro_recall\", \"run_id\": \"AutoML_b82a165d-32d7-40dc-8988-8fdd2e017f33\", \"categories\": [0], \"series\": [{\"data\": [0.49227647663567187]}]}, {\"name\": \"precision_score_weighted\", \"run_id\": \"AutoML_b82a165d-32d7-40dc-8988-8fdd2e017f33\", \"categories\": [0], \"series\": [{\"data\": [0.910755261657657]}]}, {\"name\": \"recall_score_macro\", \"run_id\": \"AutoML_b82a165d-32d7-40dc-8988-8fdd2e017f33\", \"categories\": [0], \"series\": [{\"data\": [0.7461382383178358]}]}, {\"name\": \"AUC_macro\", \"run_id\": \"AutoML_b82a165d-32d7-40dc-8988-8fdd2e017f33\", \"categories\": [0], \"series\": [{\"data\": [0.9506067019924981]}]}, {\"name\": \"average_precision_score_weighted\", \"run_id\": \"AutoML_b82a165d-32d7-40dc-8988-8fdd2e017f33\", \"categories\": [0], \"series\": [{\"data\": [0.9575695338397484]}]}, {\"name\": \"recall_score_micro\", \"run_id\": \"AutoML_b82a165d-32d7-40dc-8988-8fdd2e017f33\", \"categories\": [0], \"series\": [{\"data\": [0.9169954476479514]}]}, {\"name\": \"AUC_micro\", \"run_id\": \"AutoML_b82a165d-32d7-40dc-8988-8fdd2e017f33\", \"categories\": [0], \"series\": [{\"data\": [0.9815767486949694]}]}, {\"name\": \"recall_score_weighted\", \"run_id\": \"AutoML_b82a165d-32d7-40dc-8988-8fdd2e017f33\", \"categories\": [0], \"series\": [{\"data\": [0.9169954476479514]}]}, {\"name\": \"f1_score_weighted\", \"run_id\": \"AutoML_b82a165d-32d7-40dc-8988-8fdd2e017f33\", \"categories\": [0], \"series\": [{\"data\": [0.9127889394001244]}]}, {\"name\": \"accuracy\", \"run_id\": \"AutoML_b82a165d-32d7-40dc-8988-8fdd2e017f33\", \"categories\": [0], \"series\": [{\"data\": [0.9169954476479514]}]}, {\"name\": \"log_loss\", \"run_id\": \"AutoML_b82a165d-32d7-40dc-8988-8fdd2e017f33\", \"categories\": [0], \"series\": [{\"data\": [0.17222963365411395]}]}, {\"name\": \"f1_score_micro\", \"run_id\": \"AutoML_b82a165d-32d7-40dc-8988-8fdd2e017f33\", \"categories\": [0], \"series\": [{\"data\": [0.9169954476479514]}]}], \"run_logs\": \"\\nRun is completed.\", \"graph\": {}, \"widget_settings\": {\"childWidgetDisplay\": \"popup\", \"send_telemetry\": false, \"log_level\": \"INFO\", \"sdk_version\": \"1.28.0\"}, \"loading\": false}"
          },
          "metadata": {}
        },
        {
          "output_type": "stream",
          "name": "stderr",
          "text": [
            "WARNING:urllib3.connectionpool:Retrying (Retry(total=2, connect=2, read=3, redirect=None, status=None)) after connection broken by 'NewConnectionError('<urllib3.connection.HTTPSConnection object at 0x7f06f84c1160>: Failed to establish a new connection: [Errno 111] Connection refused',)': /modelmanagement/v1.0/subscriptions/1a342961-1209-4b7b-9e44-318aeea934e8/resourceGroups/DataEngineering/providers/Microsoft.MachineLearningServices/workspaces/ml-playground-01/assets?runId=AutoML_f283cffd-5347-441e-aeba-d9f91af32380_0&properties=is_raw%3DFalse&type=azureml.explanation&orderby=CreatedAtDesc\n",
            "WARNING:urllib3.connectionpool:Retrying (Retry(total=2, connect=2, read=3, redirect=None, status=None)) after connection broken by 'NewConnectionError('<urllib3.connection.HTTPSConnection object at 0x7f06f86e4f98>: Failed to establish a new connection: [Errno 111] Connection refused',)': /history/v1.0/subscriptions/1a342961-1209-4b7b-9e44-318aeea934e8/resourceGroups/DataEngineering/providers/Microsoft.MachineLearningServices/workspaces/ml-playground-01/experimentids/f096d75a-e764-44ec-93fe-c6aa7f066d41/runs/AutoML_f283cffd-5347-441e-aeba-d9f91af32380_0\n",
            "WARNING:urllib3.connectionpool:Retrying (Retry(total=2, connect=2, read=3, redirect=None, status=None)) after connection broken by 'NewConnectionError('<urllib3.connection.HTTPSConnection object at 0x7f06eeaf1400>: Failed to establish a new connection: [Errno 111] Connection refused',)': /history/v1.0/subscriptions/1a342961-1209-4b7b-9e44-318aeea934e8/resourceGroups/DataEngineering/providers/Microsoft.MachineLearningServices/workspaces/ml-playground-01/experiments/udacity-project-01/metrics:query?mergestrategytype=None\n"
          ]
        }
      ],
      "execution_count": 30,
      "metadata": {
        "collapsed": true,
        "jupyter": {
          "source_hidden": false,
          "outputs_hidden": false
        },
        "nteract": {
          "transient": {
            "deleting": false
          }
        },
        "gather": {
          "logged": 1624307036171
        }
      }
    },
    {
      "cell_type": "code",
      "source": [
        "automl_run.wait_for_completion(show_output=True)"
      ],
      "outputs": [
        {
          "output_type": "display_data",
          "data": {
            "text/plain": "<IPython.core.display.HTML object>",
            "text/html": "<table style=\"width:100%\"><tr><th>Experiment</th><th>Id</th><th>Type</th><th>Status</th><th>Details Page</th><th>Docs Page</th></tr><tr><td>udacity-project-01</td><td>AutoML_b82a165d-32d7-40dc-8988-8fdd2e017f33</td><td>automl</td><td>Running</td><td><a href=\"https://ml.azure.com/runs/AutoML_b82a165d-32d7-40dc-8988-8fdd2e017f33?wsid=/subscriptions/1a342961-1209-4b7b-9e44-318aeea934e8/resourcegroups/DataEngineering/workspaces/ml-playground-01&amp;tid=7372f5ba-1acf-477d-b240-4a81fd41c1ed\" target=\"_blank\" rel=\"noopener\">Link to Azure Machine Learning studio</a></td><td><a href=\"https://docs.microsoft.com/en-us/python/api/overview/azure/ml/intro?view=azure-ml-py\" target=\"_blank\" rel=\"noopener\">Link to Documentation</a></td></tr></table>"
          },
          "metadata": {}
        },
        {
          "output_type": "stream",
          "name": "stdout",
          "text": [
            "\n",
            "Current status: DatasetFeaturization. Beginning to fit featurizers and featurize the dataset.\n",
            "Current status: DatasetBalancing. Performing class balancing sweeping\n",
            "Current status: DatasetCrossValidationSplit. Generating individually featurized CV splits.\n",
            "Current status: ModelSelection. Beginning model selection.\n",
            "\n",
            "****************************************************************************************************\n",
            "DATA GUARDRAILS: \n",
            "\n",
            "TYPE:         Class balancing detection\n",
            "STATUS:       ALERTED\n",
            "DESCRIPTION:  To decrease model bias, please cancel the current run and fix balancing problem.\n",
            "              Learn more about imbalanced data: https://aka.ms/AutomatedMLImbalancedData\n",
            "DETAILS:      Imbalanced data can lead to a falsely perceived positive effect of a model's accuracy because the input data has bias towards one class.\n",
            "+---------------------------------+---------------------------------+--------------------------------------+\n",
            "|Size of the smallest class       |Name/Label of the smallest class |Number of samples in the training data|\n",
            "+=================================+=================================+======================================+\n",
            "|3692                             |yes                              |32950                                 |\n",
            "+---------------------------------+---------------------------------+--------------------------------------+\n",
            "\n",
            "****************************************************************************************************\n",
            "\n",
            "TYPE:         Missing feature values imputation\n",
            "STATUS:       PASSED\n",
            "DESCRIPTION:  No feature missing values were detected in the training data.\n",
            "              Learn more about missing value imputation: https://aka.ms/AutomatedMLFeaturization\n",
            "\n",
            "****************************************************************************************************\n",
            "\n",
            "TYPE:         High cardinality feature detection\n",
            "STATUS:       PASSED\n",
            "DESCRIPTION:  Your inputs were analyzed, and no high cardinality features were detected.\n",
            "              Learn more about high cardinality feature handling: https://aka.ms/AutomatedMLFeaturization\n",
            "\n",
            "****************************************************************************************************\n",
            "\n",
            "****************************************************************************************************\n",
            "ITERATION: The iteration being evaluated.\n",
            "PIPELINE: A summary description of the pipeline being evaluated.\n",
            "DURATION: Time taken for the current iteration.\n",
            "METRIC: The result of computing score on the fitted pipeline.\n",
            "BEST: The best observed score thus far.\n",
            "****************************************************************************************************\n",
            "\n",
            " ITERATION   PIPELINE                                       DURATION      METRIC      BEST\n",
            "         7   MaxAbsScaler ExtremeRandomTrees                0:00:47       0.8301    0.8301\n",
            "         1   MaxAbsScaler XGBoostClassifier                 0:00:57       0.9473    0.9473\n",
            "         2   MaxAbsScaler RandomForest                      0:00:51       0.9102    0.9473\n",
            "        14   MaxAbsScaler RandomForest                      0:00:48       0.8959    0.9473\n",
            "         0   MaxAbsScaler LightGBM                          0:02:09       0.9500    0.9500\n",
            "        15   StandardScalerWrapper ExtremeRandomTrees       0:00:47       0.8733    0.9500\n",
            "        16   MaxAbsScaler ExtremeRandomTrees                0:00:44       0.8616    0.9500\n",
            "         9   MaxAbsScaler ExtremeRandomTrees                0:03:19       0.8236    0.9500\n",
            "         6   MaxAbsScaler ExtremeRandomTrees                0:03:38       0.8877    0.9500\n",
            "        17   MaxAbsScaler ExtremeRandomTrees                0:00:51       0.8104    0.9500\n",
            "        18   MaxAbsScaler RandomForest                      0:00:45       0.8604    0.9500\n",
            "        19   MaxAbsScaler LightGBM                          0:00:42       0.9468    0.9500\n",
            "        20   MaxAbsScaler LightGBM                          0:00:43       0.9403    0.9500\n",
            "        21   MaxAbsScaler LightGBM                          0:00:45       0.9349    0.9500\n",
            "        22   MaxAbsScaler LightGBM                          0:00:43       0.9454    0.9500\n",
            "        11   MaxAbsScaler RandomForest                      0:05:31       0.8877    0.9500\n",
            "        24   MaxAbsScaler LightGBM                          0:00:40       0.9347    0.9500\n",
            "         8   MaxAbsScaler RandomForest                      0:05:25       0.8916    0.9500\n",
            "        10   MaxAbsScaler RandomForest                      0:05:26       0.8632    0.9500\n",
            "        12   MaxAbsScaler RandomForest                      0:05:36       0.8564    0.9500\n",
            "        13   StandardScalerWrapper XGBoostClassifier        0:05:33       0.9346    0.9500\n",
            "         3   MaxAbsScaler RandomForest                      0:05:35       0.8905    0.9500\n",
            "         4   MaxAbsScaler RandomForest                      0:05:32       0.8954    0.9500\n",
            "         5   MaxAbsScaler ExtremeRandomTrees                0:05:38       0.9088    0.9500\n",
            "        26   MaxAbsScaler LightGBM                          0:00:46       0.9437    0.9500\n",
            "        23   StandardScalerWrapper LogisticRegression       0:02:06       0.9361    0.9500\n",
            "        27   MaxAbsScaler LightGBM                          0:00:53       0.9474    0.9500\n",
            "        29   MaxAbsScaler LightGBM                          0:00:45       0.9345    0.9500\n",
            "        30   MaxAbsScaler LightGBM                          0:00:42       0.9356    0.9500\n",
            "        28   StandardScalerWrapper XGBoostClassifier        0:01:11       0.9492    0.9500\n",
            "        31   MaxAbsScaler LogisticRegression                0:00:59       0.9318    0.9500\n",
            "        33   MaxAbsScaler LightGBM                          0:00:44       0.9408    0.9500\n",
            "        35   StandardScalerWrapper XGBoostClassifier        0:00:48       0.9417    0.9500\n",
            "        25   StandardScalerWrapper LightGBM                 0:01:51       0.9340    0.9500\n",
            "        32   MaxAbsScaler LogisticRegression                0:01:11       0.9325    0.9500\n",
            "        36   MaxAbsScaler LightGBM                          0:00:41       0.9405    0.9500\n",
            "        34   StandardScalerWrapper XGBoostClassifier        0:01:32       0.9473    0.9500\n",
            "        37   MaxAbsScaler LightGBM                          0:00:42       0.9072    0.9500\n",
            "        38   MaxAbsScaler LightGBM                          0:00:42       0.9136    0.9500\n",
            "        39   StandardScalerWrapper XGBoostClassifier        0:00:51       0.9492    0.9500\n",
            "        42   MaxAbsScaler DecisionTree                      0:00:43       0.9370    0.9500\n",
            "        40   StandardScalerWrapper XGBoostClassifier        0:01:01          nan    0.9500\n",
            "        41   TruncatedSVDWrapper XGBoostClassifier          0:00:57          nan    0.9500\n",
            "        43   MaxAbsScaler LightGBM                          0:00:48       0.9461    0.9500\n",
            "        44   MaxAbsScaler LightGBM                          0:00:45       0.9389    0.9500\n",
            "        45   MaxAbsScaler LightGBM                          0:00:33       0.9343    0.9500\n",
            "        46   MaxAbsScaler LightGBM                          0:00:33          nan    0.9500\n",
            "        47   MaxAbsScaler LightGBM                          0:00:29          nan    0.9500\n",
            "        48                                                  0:00:07          nan    0.9500\n",
            "        49                                                  0:00:17          nan    0.9500\n",
            "        50                                                  0:00:13          nan    0.9500\n",
            "        51                                                  0:00:15          nan    0.9500\n",
            "        52    VotingEnsemble                                0:01:56       0.9506    0.9506\n",
            "        53    StackEnsemble                                 0:02:24       0.9503    0.9506\n"
          ]
        },
        {
          "output_type": "execute_result",
          "execution_count": 31,
          "data": {
            "text/plain": "{'runId': 'AutoML_b82a165d-32d7-40dc-8988-8fdd2e017f33',\n 'target': 'testing-123',\n 'status': 'Completed',\n 'startTimeUtc': '2021-06-21T20:24:04.94321Z',\n 'endTimeUtc': '2021-06-21T20:43:46.878412Z',\n 'properties': {'num_iterations': '144',\n  'training_type': 'TrainFull',\n  'acquisition_function': 'EI',\n  'primary_metric': 'AUC_weighted',\n  'train_split': '0',\n  'acquisition_parameter': '0',\n  'num_cross_validation': '10',\n  'target': 'testing-123',\n  'AMLSettingsJsonString': '{\"path\":null,\"name\":\"udacity-project-01\",\"subscription_id\":\"1a342961-1209-4b7b-9e44-318aeea934e8\",\"resource_group\":\"DataEngineering\",\"workspace_name\":\"ml-playground-01\",\"region\":\"eastus\",\"compute_target\":\"testing-123\",\"spark_service\":null,\"azure_service\":\"remote\",\"many_models\":false,\"pipeline_fetch_max_batch_size\":1,\"enable_batch_run\":false,\"enable_run_restructure\":false,\"start_auxiliary_runs_before_parent_complete\":false,\"enable_code_generation\":false,\"iterations\":144,\"primary_metric\":\"AUC_weighted\",\"task_type\":\"classification\",\"data_script\":null,\"test_size\":0.0,\"validation_size\":0.0,\"n_cross_validations\":10,\"y_min\":null,\"y_max\":null,\"num_classes\":null,\"featurization\":\"auto\",\"_ignore_package_version_incompatibilities\":false,\"is_timeseries\":false,\"max_cores_per_iteration\":-1,\"max_concurrent_iterations\":12,\"iteration_timeout_minutes\":null,\"mem_in_mb\":null,\"enforce_time_on_windows\":false,\"experiment_timeout_minutes\":30,\"experiment_exit_score\":null,\"whitelist_models\":null,\"blacklist_algos\":[\"TensorFlowLinearClassifier\",\"TensorFlowDNN\"],\"supported_models\":[\"KNN\",\"RandomForest\",\"DecisionTree\",\"GradientBoosting\",\"TensorFlowLinearClassifier\",\"TensorFlowDNN\",\"SGD\",\"ExtremeRandomTrees\",\"LightGBM\",\"MultinomialNaiveBayes\",\"BernoulliNaiveBayes\",\"SVM\",\"LinearSVM\",\"XGBoostClassifier\",\"LogisticRegression\",\"AveragedPerceptronClassifier\"],\"private_models\":[],\"auto_blacklist\":true,\"blacklist_samples_reached\":false,\"exclude_nan_labels\":true,\"verbosity\":20,\"_debug_log\":\"azureml_automl.log\",\"show_warnings\":false,\"model_explainability\":true,\"service_url\":null,\"sdk_url\":null,\"sdk_packages\":null,\"enable_onnx_compatible_models\":false,\"enable_split_onnx_featurizer_estimator_models\":false,\"vm_type\":\"STANDARD_D2_V2\",\"telemetry_verbosity\":20,\"send_telemetry\":true,\"enable_dnn\":false,\"scenario\":\"SDK-1.13.0\",\"environment_label\":null,\"save_mlflow\":false,\"force_text_dnn\":false,\"enable_feature_sweeping\":true,\"enable_early_stopping\":true,\"early_stopping_n_iters\":10,\"metrics\":null,\"enable_metric_confidence\":false,\"enable_ensembling\":true,\"enable_stack_ensembling\":true,\"ensemble_iterations\":15,\"enable_tf\":false,\"enable_subsampling\":false,\"subsample_seed\":null,\"enable_nimbusml\":false,\"enable_streaming\":false,\"force_streaming\":false,\"track_child_runs\":true,\"allowed_private_models\":[],\"label_column_name\":\"y\",\"weight_column_name\":null,\"cv_split_column_names\":null,\"enable_local_managed\":false,\"_local_managed_run_id\":null,\"cost_mode\":1,\"lag_length\":0,\"metric_operation\":\"maximize\",\"preprocess\":true}',\n  'DataPrepJsonString': '{\\\\\"training_data\\\\\": {\\\\\"datasetId\\\\\": \\\\\"c11c50c2-9a12-4a26-a641-72fbb5ee019c\\\\\"}, \\\\\"datasets\\\\\": 0}',\n  'EnableSubsampling': 'False',\n  'runTemplate': 'AutoML',\n  'azureml.runsource': 'automl',\n  'display_task_type': 'classification',\n  'dependencies_versions': '{\"azureml-widgets\": \"1.28.0\", \"azureml-train\": \"1.28.0\", \"azureml-train-restclients-hyperdrive\": \"1.28.0\", \"azureml-train-core\": \"1.28.0\", \"azureml-train-automl\": \"1.28.0\", \"azureml-train-automl-runtime\": \"1.28.0\", \"azureml-train-automl-client\": \"1.28.0\", \"azureml-tensorboard\": \"1.28.0\", \"azureml-telemetry\": \"1.28.0\", \"azureml-sdk\": \"1.28.0\", \"azureml-samples\": \"0+unknown\", \"azureml-pipeline\": \"1.28.0\", \"azureml-pipeline-steps\": \"1.28.0\", \"azureml-pipeline-core\": \"1.28.0\", \"azureml-opendatasets\": \"1.28.0\", \"azureml-model-management-sdk\": \"1.0.1b6.post1\", \"azureml-mlflow\": \"1.28.0\", \"azureml-interpret\": \"1.28.0\", \"azureml-explain-model\": \"1.28.0\", \"azureml-defaults\": \"1.28.0\", \"azureml-dataset-runtime\": \"1.28.0\", \"azureml-dataprep\": \"2.15.0\", \"azureml-dataprep-rslex\": \"1.13.0\", \"azureml-dataprep-native\": \"33.0.0\", \"azureml-datadrift\": \"1.28.0\", \"azureml-core\": \"1.28.0\", \"azureml-contrib-services\": \"1.28.0\", \"azureml-contrib-server\": \"1.28.0\", \"azureml-contrib-reinforcementlearning\": \"1.28.0\", \"azureml-contrib-pipeline-steps\": \"1.28.0\", \"azureml-contrib-notebook\": \"1.28.0\", \"azureml-contrib-gbdt\": \"1.28.0\", \"azureml-contrib-fairness\": \"1.28.0\", \"azureml-contrib-dataset\": \"1.28.0\", \"azureml-cli-common\": \"1.28.0\", \"azureml-automl-runtime\": \"1.28.0.post2\", \"azureml-automl-dnn-nlp\": \"1.28.0\", \"azureml-automl-core\": \"1.28.0\", \"azureml-accel-models\": \"1.28.0\"}',\n  '_aml_system_scenario_identification': 'Remote.Parent',\n  'ClientType': 'SDK',\n  'environment_cpu_name': 'AzureML-AutoML',\n  'environment_cpu_label': 'prod',\n  'environment_gpu_name': 'AzureML-AutoML-GPU',\n  'environment_gpu_label': 'prod',\n  'root_attribution': 'automl',\n  'attribution': 'AutoML',\n  'Orchestrator': 'AutoML',\n  'CancelUri': 'https://eastus.api.azureml.ms/jasmine/v1.0/subscriptions/1a342961-1209-4b7b-9e44-318aeea934e8/resourceGroups/DataEngineering/providers/Microsoft.MachineLearningServices/workspaces/ml-playground-01/experimentids/f096d75a-e764-44ec-93fe-c6aa7f066d41/cancel/AutoML_b82a165d-32d7-40dc-8988-8fdd2e017f33',\n  'azureml.git.repository_uri': 'https://github.com/blallen/nd00333_AZMLND_Optimizing_a_Pipeline_in_Azure-Starter_Files.git',\n  'mlflow.source.git.repoURL': 'https://github.com/blallen/nd00333_AZMLND_Optimizing_a_Pipeline_in_Azure-Starter_Files.git',\n  'azureml.git.branch': 'master',\n  'mlflow.source.git.branch': 'master',\n  'azureml.git.commit': 'db82941b1063f1df36623515088d0ca7be7098f7',\n  'mlflow.source.git.commit': 'db82941b1063f1df36623515088d0ca7be7098f7',\n  'azureml.git.dirty': 'True',\n  'ClientSdkVersion': '1.30.0',\n  'snapshotId': '00000000-0000-0000-0000-000000000000',\n  'SetupRunId': 'AutoML_b82a165d-32d7-40dc-8988-8fdd2e017f33_setup',\n  'SetupRunContainerId': 'dcid.AutoML_b82a165d-32d7-40dc-8988-8fdd2e017f33_setup',\n  'FeaturizationRunJsonPath': 'featurizer_container.json',\n  'FeaturizationRunId': 'AutoML_b82a165d-32d7-40dc-8988-8fdd2e017f33_featurize',\n  'ProblemInfoJsonString': '{\"dataset_num_categorical\": 0, \"is_sparse\": true, \"subsampling\": false, \"has_extra_col\": true, \"dataset_classes\": 2, \"dataset_features\": 132, \"dataset_samples\": 32950, \"single_frequency_class_detected\": false}',\n  'ModelExplainRunId': 'AutoML_b82a165d-32d7-40dc-8988-8fdd2e017f33_ModelExplain'},\n 'inputDatasets': [{'dataset': {'id': 'c11c50c2-9a12-4a26-a641-72fbb5ee019c'}, 'consumptionDetails': {'type': 'RunInput', 'inputName': 'training_data', 'mechanism': 'Direct'}}],\n 'outputDatasets': [],\n 'logFiles': {},\n 'submittedBy': 'Brandon Allen'}"
          },
          "metadata": {}
        }
      ],
      "execution_count": 31,
      "metadata": {
        "collapsed": true,
        "jupyter": {
          "source_hidden": false,
          "outputs_hidden": false
        },
        "nteract": {
          "transient": {
            "deleting": false
          }
        },
        "gather": {
          "logged": 1624308246086
        }
      }
    },
    {
      "cell_type": "markdown",
      "source": [
        "AUTOML CLEANUP"
      ],
      "metadata": {
        "nteract": {
          "transient": {
            "deleting": false
          }
        }
      }
    },
    {
      "cell_type": "code",
      "source": [
        "automl_run.complete()"
      ],
      "outputs": [],
      "execution_count": 32,
      "metadata": {
        "collapsed": true,
        "jupyter": {
          "source_hidden": false,
          "outputs_hidden": false
        },
        "nteract": {
          "transient": {
            "deleting": false
          }
        },
        "gather": {
          "logged": 1624308377143
        }
      }
    },
    {
      "cell_type": "code",
      "source": [
        "# Retrieve and save your best automl model.\n",
        "\n",
        "best_run, fitted_model = automl_run.get_output()\n",
        "# print(fitted_model.steps)\n",
        "print(type(automl_run))\n",
        "print(type(best_run))\n",
        "print(type(fitted_model))\n",
        "\n",
        "model_name = best_run.properties['model_name']\n",
        "print(model_name)\n",
        "description = 'AutoML forecast example'\n",
        "tags = None\n",
        "\n",
        "model = automl_run.register_model(model_name = model_name, description = description, tags = tags)"
      ],
      "outputs": [
        {
          "output_type": "stream",
          "name": "stderr",
          "text": [
            "WARNING:root:The version of the SDK does not match the version the model was trained on.\n",
            "WARNING:root:The consistency in the result may not be guaranteed.\n",
            "WARNING:root:Package:azureml-automl-core, training version:1.30.0, current version:1.28.0\n",
            "Package:azureml-automl-runtime, training version:1.30.0, current version:1.28.0.post2\n",
            "Package:azureml-core, training version:1.30.0, current version:1.28.0\n",
            "Package:azureml-dataset-runtime, training version:1.30.0, current version:1.28.0\n",
            "Package:azureml-defaults, training version:1.30.0, current version:1.28.0\n",
            "Package:azureml-interpret, training version:1.30.0, current version:1.28.0\n",
            "Package:azureml-mlflow, training version:1.30.0, current version:1.28.0\n",
            "Package:azureml-pipeline-core, training version:1.30.0, current version:1.28.0\n",
            "Package:azureml-telemetry, training version:1.30.0, current version:1.28.0\n",
            "Package:azureml-train-automl-client, training version:1.30.0, current version:1.28.0\n",
            "Package:azureml-train-automl-runtime, training version:1.30.0, current version:1.28.0\n",
            "WARNING:root:Please ensure the version of your local conda dependencies match the version on which your model was trained in order to properly retrieve your model.\n"
          ]
        },
        {
          "output_type": "stream",
          "name": "stdout",
          "text": [
            "<class 'azureml.train.automl.run.AutoMLRun'>\n",
            "<class 'azureml.core.run.Run'>\n",
            "<class 'azureml.automl.runtime.shared.model_wrappers.PipelineWithYTransformations'>\n",
            "AutoMLb82a165d352\n"
          ]
        }
      ],
      "execution_count": 33,
      "metadata": {
        "gather": {
          "logged": 1624308385894
        }
      }
    },
    {
      "cell_type": "markdown",
      "source": [
        "EVERYTHING CLEANUP"
      ],
      "metadata": {
        "nteract": {
          "transient": {
            "deleting": false
          }
        }
      }
    },
    {
      "cell_type": "code",
      "source": [
        "run.complete()"
      ],
      "outputs": [],
      "execution_count": null,
      "metadata": {
        "collapsed": true,
        "jupyter": {
          "source_hidden": false,
          "outputs_hidden": false
        },
        "nteract": {
          "transient": {
            "deleting": false
          }
        },
        "gather": {
          "logged": 1624051018118
        }
      }
    }
  ],
  "metadata": {
    "kernel_info": {
      "name": "python3"
    },
    "kernelspec": {
      "name": "python3",
      "language": "python",
      "display_name": "Python 3"
    },
    "language_info": {
      "name": "python",
      "version": "3.6.9",
      "mimetype": "text/x-python",
      "codemirror_mode": {
        "name": "ipython",
        "version": 3
      },
      "pygments_lexer": "ipython3",
      "nbconvert_exporter": "python",
      "file_extension": ".py"
    },
    "nteract": {
      "version": "nteract-front-end@1.0.0"
    },
    "microsoft": {
      "host": {
        "AzureML": {
          "notebookHasBeenCompleted": true
        }
      }
    }
  },
  "nbformat": 4,
  "nbformat_minor": 2
}