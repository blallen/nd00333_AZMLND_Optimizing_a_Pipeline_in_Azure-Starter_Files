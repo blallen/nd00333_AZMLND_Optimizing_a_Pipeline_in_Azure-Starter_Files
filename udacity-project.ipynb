{
  "cells": [
    {
      "cell_type": "markdown",
      "source": [
        "COMMON SETUP"
      ],
      "metadata": {
        "nteract": {
          "transient": {
            "deleting": false
          }
        }
      }
    },
    {
      "cell_type": "code",
      "source": [
        "from azureml.core import Workspace, Experiment\n",
        "\n",
        "ws = Workspace.get(\n",
        "      name=\"ml-playground-01\",\n",
        "      subscription_id=\"1a342961-1209-4b7b-9e44-318aeea934e8\",\n",
        "      resource_group=\"DataEngineering\",\n",
        ")\n",
        "\n",
        "print(ws)\n",
        "\n",
        "exp = Experiment(workspace=ws, name=\"udacity-project-01\")\n",
        "\n",
        "print('Workspace name: ' + ws.name, \n",
        "      'Azure region: ' + ws.location, \n",
        "      'Subscription id: ' + ws.subscription_id, \n",
        "      'Resource group: ' + ws.resource_group, sep = '\\n')\n",
        "\n",
        "run = exp.start_logging()\n",
        "from azureml.widgets import RunDetails\n",
        "\n",
        "from azureml.core.compute import ComputeTarget, AmlCompute\n",
        "\n",
        "# TODO: Create compute cluster\n",
        "# Use vm_size = \"Standard_D2_V2\" in your provisioning configuration.\n",
        "# max_nodes should be no greater than 4.\n",
        "\n",
        "compute_target = ws.compute_targets[\"testing-123\"]"
      ],
      "outputs": [],
      "execution_count": null,
      "metadata": {
        "gather": {
          "logged": 1624372408618
        }
      }
    },
    {
      "cell_type": "markdown",
      "source": [
        "START HYPER DRIVE BLOCK"
      ],
      "metadata": {
        "nteract": {
          "transient": {
            "deleting": false
          }
        }
      }
    },
    {
      "cell_type": "code",
      "source": [
        "from azureml.train.hyperdrive.run import PrimaryMetricGoal\n",
        "from azureml.train.hyperdrive.policy import BanditPolicy, MedianStoppingPolicy\n",
        "from azureml.train.hyperdrive.sampling import RandomParameterSampling, BayesianParameterSampling\n",
        "from azureml.train.hyperdrive.runconfig import HyperDriveConfig\n",
        "from azureml.train.hyperdrive.parameter_expressions import uniform, loguniform, choice\n",
        "import os\n",
        "\n",
        "# Specify parameter sampler\n",
        "ps = RandomParameterSampling( {\n",
        "# ps = BayesianParameterSampling( {\n",
        "        \"--C\": uniform(0.1, 1),\n",
        "        \"--max_iter\": choice([100, 200, 500, 1000, 2000, 5000, 10000, 20000, 50000]),\n",
        "    }\n",
        ")\n",
        "\n",
        "# Specify a Policy\n",
        "# policy = BanditPolicy(slack_factor = 0.1, evaluation_interval=1, delay_evaluation=5)\n",
        "policy = MedianStoppingPolicy(evaluation_interval=1, delay_evaluation=5)\n",
        "\n",
        "if \"training\" not in os.listdir():\n",
        "    os.mkdir(\"./training\")\n",
        "\n",
        "# Create a SKLearn estimator for use with train.py\n",
        "from azureml.core import Environment\n",
        "\n",
        "sklearn_env = Environment.get(workspace=ws, name='AzureML-Tutorial')\n",
        "\n",
        "from azureml.core import ScriptRunConfig\n",
        "\n",
        "path_to_script = \".\" # \"~/cloudfiles/code/Users/ballen/udacity/nd00333_AZMLND_Optimizing_a_Pipeline_in_Azure-Starter_Files\"\n",
        "src = ScriptRunConfig(source_directory=path_to_script,\n",
        "                      script='train.py',\n",
        "                      arguments=[],\n",
        "                      compute_target=compute_target,\n",
        "                      environment=sklearn_env)\n",
        "\n",
        "# Create a HyperDriveConfig using the estimator, hyperparameter sampler, and policy.\n",
        "hd_config = HyperDriveConfig(\n",
        "    run_config=src,\n",
        "    hyperparameter_sampling=ps,\n",
        "    policy=policy,\n",
        "    primary_metric_name=\"AUC_weighted\",\n",
        "    primary_metric_goal=PrimaryMetricGoal.MAXIMIZE,\n",
        "    max_total_runs=144,\n",
        "    max_concurrent_runs=12,\n",
        ")"
      ],
      "outputs": [],
      "execution_count": null,
      "metadata": {
        "gather": {
          "logged": 1624381567036
        },
        "jupyter": {
          "outputs_hidden": false,
          "source_hidden": false
        },
        "nteract": {
          "transient": {
            "deleting": false
          }
        }
      }
    },
    {
      "cell_type": "code",
      "source": [
        "# Submit your hyperdrive run to the experiment and show run details with the widget.\n",
        "\n",
        "hyperdrive_run = exp.submit(hd_config)\n"
      ],
      "outputs": [],
      "execution_count": null,
      "metadata": {
        "gather": {
          "logged": 1624381595909
        }
      }
    },
    {
      "cell_type": "code",
      "source": [
        "# watch run\r\n",
        "RunDetails(hyperdrive_run).show()"
      ],
      "outputs": [],
      "execution_count": null,
      "metadata": {
        "collapsed": true,
        "jupyter": {
          "source_hidden": false,
          "outputs_hidden": false
        },
        "nteract": {
          "transient": {
            "deleting": false
          }
        },
        "gather": {
          "logged": 1624381598128
        }
      }
    },
    {
      "cell_type": "code",
      "source": [
        "hyperdrive_run.wait_for_completion(show_output=True)"
      ],
      "outputs": [],
      "execution_count": null,
      "metadata": {
        "collapsed": true,
        "jupyter": {
          "source_hidden": false,
          "outputs_hidden": false
        },
        "nteract": {
          "transient": {
            "deleting": false
          }
        },
        "gather": {
          "logged": 1624383312741
        }
      }
    },
    {
      "cell_type": "markdown",
      "source": [
        "HYPERDRIVE CLEANUP"
      ],
      "metadata": {
        "nteract": {
          "transient": {
            "deleting": false
          }
        }
      }
    },
    {
      "cell_type": "code",
      "source": [
        "hyperdrive_run.complete()"
      ],
      "outputs": [],
      "execution_count": null,
      "metadata": {
        "collapsed": true,
        "jupyter": {
          "source_hidden": false,
          "outputs_hidden": false
        },
        "nteract": {
          "transient": {
            "deleting": false
          }
        },
        "gather": {
          "logged": 1624383607106
        }
      }
    },
    {
      "cell_type": "code",
      "source": [
        "import joblib\n",
        "# Get your best run and save the model from that run.\n",
        "\n",
        "best_run = hyperdrive_run.get_best_run_by_primary_metric()\n",
        "best_run_metrics = best_run.get_metrics()\n",
        "parameter_values = best_run.get_details()['runDefinition']['arguments']\n",
        "\n",
        "print(best_run)\n",
        "print(parameter_values)\n",
        "print(best_run.get_file_names())\n",
        "\n",
        "model = best_run.register_model(model_name='best_logistic', model_path='outputs/model.joblib')"
      ],
      "outputs": [],
      "execution_count": null,
      "metadata": {
        "gather": {
          "logged": 1624383613005
        },
        "jupyter": {
          "outputs_hidden": false,
          "source_hidden": false
        },
        "nteract": {
          "transient": {
            "deleting": false
          }
        }
      }
    },
    {
      "cell_type": "markdown",
      "source": [
        "START AUTOML BLOCK"
      ],
      "metadata": {
        "nteract": {
          "transient": {
            "deleting": false
          }
        }
      }
    },
    {
      "cell_type": "code",
      "source": [
        "from azureml.data.dataset_factory import TabularDatasetFactory\n",
        "\n",
        "# Create TabularDataset using TabularDatasetFactory\n",
        "# Data is available at: \n",
        "# \"https://automlsamplenotebookdata.blob.core.windows.net/automl-sample-notebook-data/bankmarketing_train.csv\"\n",
        "\n",
        "path = \"https://automlsamplenotebookdata.blob.core.windows.net/automl-sample-notebook-data/bankmarketing_train.csv\"\n",
        "\n",
        "ds = TabularDatasetFactory.from_delimited_files(path)"
      ],
      "outputs": [],
      "execution_count": null,
      "metadata": {
        "gather": {
          "logged": 1624298296990
        }
      }
    },
    {
      "cell_type": "code",
      "source": [
        "from azureml.train.automl import AutoMLConfig\n",
        "\n",
        "# Set parameters for AutoMLConfig\n",
        "# NOTE: DO NOT CHANGE THE experiment_timeout_minutes PARAMETER OR YOUR INSTANCE WILL TIME OUT.\n",
        "# If you wish to run the experiment longer, you will need to run this notebook in your own\n",
        "# Azure tenant, which will incur personal costs.\n",
        "automl_config = AutoMLConfig(\n",
        "    experiment_timeout_hours=0.5,\n",
        "    compute_target=compute_target,\n",
        "    task=\"classification\",\n",
        "    model_explainability=True,\n",
        "    training_data=ds,\n",
        "    label_column_name=\"y\",\n",
        "    n_cross_validations=10,\n",
        "    primary_metric=\"AUC_weighted\",\n",
        "    enable_onnx_compatible_models=False,\n",
        "    enable_stack_ensemble=True,\n",
        "    enable_voting_ensemble=True,\n",
        "    iterations=144,\n",
        "    enable_early_stopping=True,\n",
        "    max_cores_per_iteration=-1,\n",
        "    max_concurrent_iterations=12,\n",
        ")"
      ],
      "outputs": [],
      "execution_count": null,
      "metadata": {
        "gather": {
          "logged": 1624307024598
        },
        "jupyter": {
          "outputs_hidden": false,
          "source_hidden": false
        },
        "nteract": {
          "transient": {
            "deleting": false
          }
        }
      }
    },
    {
      "cell_type": "code",
      "source": [
        "# Submit your automl run\n",
        "\n",
        "automl_run = exp.submit(automl_config)"
      ],
      "outputs": [],
      "execution_count": null,
      "metadata": {
        "jupyter": {
          "outputs_hidden": false,
          "source_hidden": false
        },
        "nteract": {
          "transient": {
            "deleting": false
          }
        },
        "gather": {
          "logged": 1624307033821
        }
      }
    },
    {
      "cell_type": "code",
      "source": [
        "# watch run\r\n",
        "RunDetails(automl_run).show()"
      ],
      "outputs": [],
      "execution_count": null,
      "metadata": {
        "collapsed": true,
        "jupyter": {
          "source_hidden": false,
          "outputs_hidden": false
        },
        "nteract": {
          "transient": {
            "deleting": false
          }
        },
        "gather": {
          "logged": 1624307036171
        }
      }
    },
    {
      "cell_type": "code",
      "source": [
        "automl_run.wait_for_completion(show_output=True)"
      ],
      "outputs": [],
      "execution_count": null,
      "metadata": {
        "collapsed": true,
        "jupyter": {
          "source_hidden": false,
          "outputs_hidden": false
        },
        "nteract": {
          "transient": {
            "deleting": false
          }
        },
        "gather": {
          "logged": 1624308246086
        }
      }
    },
    {
      "cell_type": "markdown",
      "source": [
        "AUTOML CLEANUP"
      ],
      "metadata": {
        "nteract": {
          "transient": {
            "deleting": false
          }
        }
      }
    },
    {
      "cell_type": "code",
      "source": [
        "automl_run.complete()"
      ],
      "outputs": [],
      "execution_count": null,
      "metadata": {
        "collapsed": true,
        "jupyter": {
          "source_hidden": false,
          "outputs_hidden": false
        },
        "nteract": {
          "transient": {
            "deleting": false
          }
        },
        "gather": {
          "logged": 1624308377143
        }
      }
    },
    {
      "cell_type": "code",
      "source": [
        "# Retrieve and save your best automl model.\n",
        "\n",
        "best_run, fitted_model = automl_run.get_output()\n",
        "# print(fitted_model.steps)\n",
        "print(type(automl_run))\n",
        "print(type(best_run))\n",
        "print(type(fitted_model))\n",
        "\n",
        "model_name = best_run.properties['model_name']\n",
        "print(model_name)\n",
        "description = 'AutoML forecast example'\n",
        "tags = None\n",
        "\n",
        "model = automl_run.register_model(model_name = model_name, description = description, tags = tags)"
      ],
      "outputs": [],
      "execution_count": null,
      "metadata": {
        "gather": {
          "logged": 1624308385894
        }
      }
    },
    {
      "cell_type": "markdown",
      "source": [
        "EVERYTHING CLEANUP"
      ],
      "metadata": {
        "nteract": {
          "transient": {
            "deleting": false
          }
        }
      }
    },
    {
      "cell_type": "code",
      "source": [
        "run.complete()"
      ],
      "outputs": [],
      "execution_count": null,
      "metadata": {
        "collapsed": true,
        "jupyter": {
          "source_hidden": false,
          "outputs_hidden": false
        },
        "nteract": {
          "transient": {
            "deleting": false
          }
        },
        "gather": {
          "logged": 1624386728982
        }
      }
    },
    {
      "cell_type": "code",
      "source": [],
      "outputs": [],
      "execution_count": null,
      "metadata": {
        "collapsed": true,
        "jupyter": {
          "source_hidden": false,
          "outputs_hidden": false
        },
        "nteract": {
          "transient": {
            "deleting": false
          }
        }
      }
    }
  ],
  "metadata": {
    "kernel_info": {
      "name": "python3"
    },
    "kernelspec": {
      "name": "python3",
      "language": "python",
      "display_name": "Python 3"
    },
    "language_info": {
      "name": "python",
      "version": "3.6.9",
      "mimetype": "text/x-python",
      "codemirror_mode": {
        "name": "ipython",
        "version": 3
      },
      "pygments_lexer": "ipython3",
      "nbconvert_exporter": "python",
      "file_extension": ".py"
    },
    "nteract": {
      "version": "nteract-front-end@1.0.0"
    },
    "microsoft": {
      "host": {
        "AzureML": {
          "notebookHasBeenCompleted": true
        }
      }
    }
  },
  "nbformat": 4,
  "nbformat_minor": 2
}